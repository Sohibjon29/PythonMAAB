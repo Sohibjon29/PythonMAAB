{
 "cells": [
  {
   "cell_type": "code",
   "execution_count": 167,
   "metadata": {},
   "outputs": [
    {
     "name": "stdout",
     "output_type": "stream",
     "text": [
      "['snnsnsn', 'sohibjon', 'sksks\\n']\n",
      "[['snnsnsn', 'sohibjon', 'sksks\\n'], ['\\n']]\n"
     ]
    }
   ],
   "source": [
    "class Book:\n",
    "    def __init__(self, title:str=None, author:str=None, is_borrowed:bool=False):\n",
    "        self.author=author\n",
    "        self.title=title\n",
    "        self.is_borrowed=is_borrowed\n",
    "\n",
    "class Member:\n",
    "    def __init__(self, name:str, borrowed_books:list):\n",
    "        self.name=name\n",
    "        self.borrowed_books=borrowed_books\n",
    "\n",
    "class Library:\n",
    "    def __init__(self):\n",
    "        pass\n",
    "    \n",
    "    def add_book(self):\n",
    "        self.title=input(\"Please enter the title\")\n",
    "        self.author=input(\"Please enter the author\")\n",
    "        self.is_borrowed=False\n",
    "        addbook=Book(self.title, self.author, self.is_borrowed)\n",
    "\n",
    "        with open('books.csv', 'a') as file:\n",
    "            file.write(addbook.title)\n",
    "            file.write(',')\n",
    "            file.write(addbook.author)\n",
    "            file.write(',')\n",
    "            file.write(str(addbook.is_borrowed))\n",
    "            file.write('\\n')\n",
    "\n",
    "    def add_mem(self):\n",
    "        self.name=input(\"Please enter your name\")\n",
    "        self.borrowed_books=list()\n",
    "        addmem=Member(self.name, self.borrowed_books)\n",
    "        with open('members.csv', 'a') as file:\n",
    "            file.write(addmem.name)\n",
    "            file.write(',')\n",
    "            file.write(str(addmem.borrowed_books))\n",
    "            file.write('\\n')\n",
    "            \n",
    "    def borrow(self):\n",
    "        self.name=input(\"Please enter your name\")\n",
    "        self.title=input(\"Please enter the book title\")\n",
    "        self.data1=[]\n",
    "        with open('members.csv', 'r+') as file:\n",
    "            data=file.readlines()\n",
    "            for lines in data:\n",
    "                line=lines.split(',')\n",
    "                if line[0]==self.name:\n",
    "                    if len(line)<=4:\n",
    "                        line.insert(0, self.title)\n",
    "                        print(line)\n",
    "                self.data1.append(line)\n",
    "            else:\n",
    "                print(self.data1) #raise error here\n",
    "\n",
    "\n",
    "                    \n",
    "                \n",
    "\n",
    "\n",
    "\n",
    "\n",
    "\n",
    "\n",
    "    def return_book(self, retbook:Book, retmem:Member):\n",
    "        self.retbook=retbook\n",
    "        self.retmem=retmem\n",
    "    \n",
    "\n",
    "Navoiy=Library()\n",
    "Navoiy.borrow()\n",
    "\n"
   ]
  },
  {
   "cell_type": "code",
   "execution_count": 157,
   "metadata": {},
   "outputs": [],
   "source": [
    "def __init__(self, book:Book, member:Member):\n",
    "        self.book=book\n",
    "        self.member=member\n"
   ]
  },
  {
   "cell_type": "code",
   "execution_count": null,
   "metadata": {},
   "outputs": [],
   "source": []
  },
  {
   "cell_type": "code",
   "execution_count": 158,
   "metadata": {},
   "outputs": [
    {
     "ename": "IndexError",
     "evalue": "list index out of range",
     "output_type": "error",
     "traceback": [
      "\u001b[1;31m---------------------------------------------------------------------------\u001b[0m",
      "\u001b[1;31mIndexError\u001b[0m                                Traceback (most recent call last)",
      "Cell \u001b[1;32mIn[158], line 3\u001b[0m\n\u001b[0;32m      1\u001b[0m \u001b[38;5;28;01mwith\u001b[39;00m \u001b[38;5;28mopen\u001b[39m(\u001b[38;5;124m'\u001b[39m\u001b[38;5;124mmembers.csv\u001b[39m\u001b[38;5;124m'\u001b[39m, \u001b[38;5;124m'\u001b[39m\u001b[38;5;124mr+\u001b[39m\u001b[38;5;124m'\u001b[39m) \u001b[38;5;28;01mas\u001b[39;00m file:\n\u001b[0;32m      2\u001b[0m         lst\u001b[38;5;241m=\u001b[39mfile\u001b[38;5;241m.\u001b[39mreadline()\u001b[38;5;241m.\u001b[39msplit(\u001b[38;5;124m'\u001b[39m\u001b[38;5;124m,\u001b[39m\u001b[38;5;124m'\u001b[39m,\u001b[38;5;241m1\u001b[39m)\n\u001b[1;32m----> 3\u001b[0m         \u001b[38;5;28mprint\u001b[39m(\u001b[43mlst\u001b[49m\u001b[43m[\u001b[49m\u001b[38;5;241;43m1\u001b[39;49m\u001b[43m]\u001b[49m)\n",
      "\u001b[1;31mIndexError\u001b[0m: list index out of range"
     ]
    }
   ],
   "source": [
    "with open('members.csv', 'r+') as file:\n",
    "        lst=file.readline().split(',',1)\n",
    "        print(lst[1])\n"
   ]
  },
  {
   "cell_type": "code",
   "execution_count": 159,
   "metadata": {},
   "outputs": [
    {
     "ename": "TypeError",
     "evalue": "'list' object is not callable",
     "output_type": "error",
     "traceback": [
      "\u001b[1;31m---------------------------------------------------------------------------\u001b[0m",
      "\u001b[1;31mTypeError\u001b[0m                                 Traceback (most recent call last)",
      "Cell \u001b[1;32mIn[159], line 3\u001b[0m\n\u001b[0;32m      1\u001b[0m \u001b[38;5;28;01mwith\u001b[39;00m \u001b[38;5;28mopen\u001b[39m(\u001b[38;5;124m'\u001b[39m\u001b[38;5;124mmembers.csv\u001b[39m\u001b[38;5;124m'\u001b[39m, \u001b[38;5;124m'\u001b[39m\u001b[38;5;124mr+\u001b[39m\u001b[38;5;124m'\u001b[39m) \u001b[38;5;28;01mas\u001b[39;00m file:\n\u001b[0;32m      2\u001b[0m     a\u001b[38;5;241m=\u001b[39mfile\u001b[38;5;241m.\u001b[39mreadlines()\n\u001b[1;32m----> 3\u001b[0m     b\u001b[38;5;241m=\u001b[39m\u001b[38;5;28;43mlist\u001b[39;49m\u001b[43m(\u001b[49m\u001b[43ma\u001b[49m\u001b[43m[\u001b[49m\u001b[38;5;241;43m0\u001b[39;49m\u001b[43m]\u001b[49m\u001b[38;5;241;43m.\u001b[39;49m\u001b[43msplit\u001b[49m\u001b[43m(\u001b[49m\u001b[38;5;124;43m'\u001b[39;49m\u001b[38;5;124;43m,\u001b[39;49m\u001b[38;5;124;43m'\u001b[39;49m\u001b[43m)\u001b[49m\u001b[43m)\u001b[49m\n\u001b[0;32m      4\u001b[0m     c\u001b[38;5;241m=\u001b[39mb[\u001b[38;5;241m1\u001b[39m]\n\u001b[0;32m      5\u001b[0m     \u001b[38;5;28mprint\u001b[39m(c)\n",
      "\u001b[1;31mTypeError\u001b[0m: 'list' object is not callable"
     ]
    }
   ],
   "source": [
    "with open('members.csv', 'r+') as file:\n",
    "    a=file.readlines()\n",
    "    b=list(a[0].split(','))\n",
    "    c=b[1]\n",
    "    print(c)\n"
   ]
  },
  {
   "cell_type": "code",
   "execution_count": 160,
   "metadata": {},
   "outputs": [],
   "source": [
    "with open('members.csv', 'r+') as file:\n",
    "    data=file.readlines()\n",
    "    "
   ]
  },
  {
   "cell_type": "code",
   "execution_count": 161,
   "metadata": {},
   "outputs": [
    {
     "ename": "IndexError",
     "evalue": "list index out of range",
     "output_type": "error",
     "traceback": [
      "\u001b[1;31m---------------------------------------------------------------------------\u001b[0m",
      "\u001b[1;31mIndexError\u001b[0m                                Traceback (most recent call last)",
      "Cell \u001b[1;32mIn[161], line 4\u001b[0m\n\u001b[0;32m      2\u001b[0m a\u001b[38;5;241m=\u001b[39mfile\u001b[38;5;241m.\u001b[39mreadlines()\n\u001b[0;32m      3\u001b[0m b\u001b[38;5;241m=\u001b[39ma[\u001b[38;5;241m0\u001b[39m]\u001b[38;5;241m.\u001b[39msplit(\u001b[38;5;124m'\u001b[39m\u001b[38;5;124m,\u001b[39m\u001b[38;5;124m'\u001b[39m,\u001b[38;5;241m1\u001b[39m)\n\u001b[1;32m----> 4\u001b[0m c\u001b[38;5;241m=\u001b[39m\u001b[43mb\u001b[49m\u001b[43m[\u001b[49m\u001b[38;5;241;43m1\u001b[39;49m\u001b[43m]\u001b[49m\n\u001b[0;32m      5\u001b[0m d\u001b[38;5;241m=\u001b[39mc\u001b[38;5;241m.\u001b[39msplit(\u001b[38;5;124m'\u001b[39m\u001b[38;5;124m,\u001b[39m\u001b[38;5;124m'\u001b[39m)\n\u001b[0;32m      7\u001b[0m \u001b[38;5;28mprint\u001b[39m(d)\n",
      "\u001b[1;31mIndexError\u001b[0m: list index out of range"
     ]
    }
   ],
   "source": [
    "with open('members.csv', 'r+') as file:\n",
    "    a=file.readlines()\n",
    "    b=a[0].split(',',1)\n",
    "    c=b[1]\n",
    "    d=c.split(',')\n",
    "\n",
    "    print(d)\n",
    "    print(type(c))\n"
   ]
  },
  {
   "cell_type": "code",
   "execution_count": null,
   "metadata": {},
   "outputs": [
    {
     "ename": "TypeError",
     "evalue": "'list' object is not callable",
     "output_type": "error",
     "traceback": [
      "\u001b[1;31m---------------------------------------------------------------------------\u001b[0m",
      "\u001b[1;31mTypeError\u001b[0m                                 Traceback (most recent call last)",
      "Cell \u001b[1;32mIn[162], line 1\u001b[0m\n\u001b[1;32m----> 1\u001b[0m daat\u001b[38;5;241m=\u001b[39m\u001b[38;5;28;43mlist\u001b[39;49m\u001b[43m(\u001b[49m\u001b[43m)\u001b[49m\n\u001b[0;32m      2\u001b[0m \u001b[38;5;28mtype\u001b[39m(daat)\n",
      "\u001b[1;31mTypeError\u001b[0m: 'list' object is not callable"
     ]
    }
   ],
   "source": [
    "daat=list()\n",
    "type(daat)\n"
   ]
  },
  {
   "cell_type": "code",
   "execution_count": null,
   "metadata": {},
   "outputs": [
    {
     "data": {
      "text/plain": [
       "\"['adssd', 'sdfsfd']\""
      ]
     },
     "execution_count": 144,
     "metadata": {},
     "output_type": "execute_result"
    }
   ],
   "source": [
    "list=['adssd', 'sdfsfd']\n",
    "str(list)\n"
   ]
  },
  {
   "cell_type": "code",
   "execution_count": null,
   "metadata": {},
   "outputs": [
    {
     "name": "stdout",
     "output_type": "stream",
     "text": [
      "<class 'list'>\n"
     ]
    }
   ],
   "source": [
    "a=[]\n",
    "print(type(a))\n"
   ]
  },
  {
   "cell_type": "code",
   "execution_count": null,
   "metadata": {},
   "outputs": [],
   "source": []
  }
 ],
 "metadata": {
  "kernelspec": {
   "display_name": "Python 3",
   "language": "python",
   "name": "python3"
  },
  "language_info": {
   "codemirror_mode": {
    "name": "ipython",
    "version": 3
   },
   "file_extension": ".py",
   "mimetype": "text/x-python",
   "name": "python",
   "nbconvert_exporter": "python",
   "pygments_lexer": "ipython3",
   "version": "3.12.8"
  }
 },
 "nbformat": 4,
 "nbformat_minor": 2
}
