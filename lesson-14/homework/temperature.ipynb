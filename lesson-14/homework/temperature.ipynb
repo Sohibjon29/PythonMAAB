{
 "cells": [
  {
   "cell_type": "code",
   "execution_count": null,
   "metadata": {},
   "outputs": [
    {
     "name": "stdout",
     "output_type": "stream",
     "text": [
      "5-Day Weather Forecast:\n",
      "Monday: 25В°C, Sunny\n",
      "Tuesday: 22В°C, Cloudy\n",
      "Wednesday: 18В°C, Rainy\n",
      "Thursday: 20В°C, Partly Cloudy\n",
      "Friday: 30В°C, Sunny\n"
     ]
    }
   ],
   "source": [
    "from bs4 import BeautifulSoup\n",
    "\n",
    "with open('weather.html', 'r') as file:\n",
    "    html_string=file.read()\n",
    "    soup=BeautifulSoup(html_string, 'html.parser')\n",
    "rows = soup.find('tbody').find_all('tr')\n",
    "print(\"5-Day Weather Forecast:\")\n",
    "for row in rows:\n",
    "    columns = row.find_all('td')\n",
    "    day = columns[0].text\n",
    "    temperature = columns[1].text\n",
    "    condition = columns[2].text\n",
    "    print(f\"{day}: {temperature}, {condition}\")\n",
    "\n"
   ]
  },
  {
   "cell_type": "code",
   "execution_count": null,
   "metadata": {},
   "outputs": [
    {
     "name": "stdout",
     "output_type": "stream",
     "text": [
      "[25, 22, 18, 20, 30]\n",
      "Highest recorded temperature was in Friday\n"
     ]
    }
   ],
   "source": [
    "temps=[]\n",
    "for row in rows:\n",
    "    columns=row.find_all('td')\n",
    "    temperature = int(columns[1].text[0:2])\n",
    "    temps.append(temperature)\n",
    "print(temps)\n",
    "maxday=temps.index(max(temps))\n",
    "if maxday==0:\n",
    "    print(\"Highest recorded temperature was in Monday\")\n",
    "elif maxday==1:\n",
    "    print(\"Highest recorded temperature was in Tuesday\")\n",
    "elif maxday==2:\n",
    "    print(\"Highest recorded temperature was in Wednesday\")\n",
    "elif maxday==3:\n",
    "    print(\"Highest recorded temperature was in Thursday\")\n",
    "elif maxday==4:\n",
    "    print(\"Highest recorded temperature was in Friday\")\n"
   ]
  },
  {
   "cell_type": "code",
   "execution_count": 51,
   "metadata": {},
   "outputs": [
    {
     "name": "stdout",
     "output_type": "stream",
     "text": [
      "It was sunny on Monday\n",
      "It was sunny on Friday\n"
     ]
    }
   ],
   "source": [
    "for row in rows:\n",
    "    columns = row.find_all('td')\n",
    "    day = columns[0].text\n",
    "    temperature = columns[1].text\n",
    "    condition = columns[2].text\n",
    "    if condition==\"Sunny\":\n",
    "        print(f\"It was sunny on {day}\")\n"
   ]
  },
  {
   "cell_type": "code",
   "execution_count": null,
   "metadata": {},
   "outputs": [
    {
     "name": "stdout",
     "output_type": "stream",
     "text": [
      "Average temperature was 23\n"
     ]
    }
   ],
   "source": [
    "import statistics\n",
    "average=statistics.mean(temps)\n",
    "print(f\"Average temperature was {average}\")\n"
   ]
  },
  {
   "cell_type": "code",
   "execution_count": null,
   "metadata": {},
   "outputs": [],
   "source": []
  }
 ],
 "metadata": {
  "kernelspec": {
   "display_name": "Python 3",
   "language": "python",
   "name": "python3"
  },
  "language_info": {
   "codemirror_mode": {
    "name": "ipython",
    "version": 3
   },
   "file_extension": ".py",
   "mimetype": "text/x-python",
   "name": "python",
   "nbconvert_exporter": "python",
   "pygments_lexer": "ipython3",
   "version": "3.12.8"
  }
 },
 "nbformat": 4,
 "nbformat_minor": 2
}
