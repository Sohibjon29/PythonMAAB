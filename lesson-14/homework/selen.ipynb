{
 "cells": [
  {
   "cell_type": "code",
   "execution_count": null,
   "metadata": {},
   "outputs": [],
   "source": [
    "from selenium import webdriver\n",
    "from selenium.webdriver.common.by import By\n",
    "from selenium.webdriver.chrome.options import Options\n",
    "import time\n",
    "import json\n",
    "\n",
    "chrome_options=Options()\n",
    "chrome_options.add_argument(\"--window-position=-1700, -200\")\n",
    "driver=webdriver.Chrome(chrome_options)\n",
    "driver.get('https://www.demoblaze.com/')\n",
    "button = driver.find_element(By.LINK_TEXT, value='Laptops') \n",
    "button.click()\n",
    "time.sleep(5)\n",
    "names=driver.find_elements(By.CLASS_NAME, value='hrefch')\n",
    "prices=driver.find_elements(By.TAG_NAME, value='h5')\n",
    "descs=driver.find_elements(By.ID, value='article')\n",
    "next_button=driver.find_element(By.ID, value='next2')\n",
    "lst=[]\n",
    "l=len(names)\n",
    "i=0\n",
    "while i<l:\n",
    "    dic={\"name\":names[i].text}\n",
    "    dic.update({\"price\":prices[i].text})\n",
    "    dic.update({\"description\":descs[i].text})\n",
    "    lst.append(dic)\n",
    "    i=i+1\n",
    "\n",
    "next_button.click()\n",
    "time.sleep(5)\n",
    "names1=driver.find_elements(By.CLASS_NAME, value='hrefch')\n",
    "prices1=driver.find_elements(By.TAG_NAME, value='h5')\n",
    "descs1=driver.find_elements(By.ID, value='article')\n",
    "l=len(names1)\n",
    "i=0\n",
    "while i<l:\n",
    "    dic.update({\"name\":names1[i].text})\n",
    "    dic.update({\"price\":prices1[i].text})\n",
    "    dic.update({\"description\":descs1[i].text})\n",
    "    lst.append(dic)\n",
    "    i=i+1\n",
    "\n",
    "\n",
    "\n",
    "\n",
    "\n",
    "driver.quit()\n",
    "with open('laptop.json', 'w') as file:\n",
    "    json.dump(lst, file, indent=4)\n",
    "\n",
    "\n",
    "\n"
   ]
  },
  {
   "cell_type": "code",
   "execution_count": null,
   "metadata": {},
   "outputs": [],
   "source": []
  },
  {
   "cell_type": "code",
   "execution_count": null,
   "metadata": {},
   "outputs": [],
   "source": []
  }
 ],
 "metadata": {
  "kernelspec": {
   "display_name": "Python 3",
   "language": "python",
   "name": "python3"
  },
  "language_info": {
   "codemirror_mode": {
    "name": "ipython",
    "version": 3
   },
   "file_extension": ".py",
   "mimetype": "text/x-python",
   "name": "python",
   "nbconvert_exporter": "python",
   "pygments_lexer": "ipython3",
   "version": "3.12.8"
  }
 },
 "nbformat": 4,
 "nbformat_minor": 2
}
