{
 "cells": [
  {
   "cell_type": "code",
   "execution_count": 1,
   "metadata": {},
   "outputs": [],
   "source": [
    "import requests\n",
    "from bs4 import BeautifulSoup\n",
    "import sqlite3\n",
    "url=\"https://realpython.github.io/fake-jobs/\"\n",
    "r=requests.get(url)\n",
    "content=r.content\n",
    "soup=BeautifulSoup(content)\n",
    "with sqlite3.connect('jobs.db') as conn:\n",
    "    cursor=conn.cursor()\n",
    "    query='Create table Jobs(position text, company int, location text, link text);'\n",
    "    cursor.execute(query)\n",
    "\n",
    "for card in soup.find_all('div', class_=\"card\"):\n",
    "    position=card.find('h2', class_='title is-5').text.strip()\n",
    "    company=card.find('h3', class_='subtitle is-6 company').text.strip()\n",
    "    location=card.find('p', class_='location').text.strip()\n",
    "    link=card.find('a', string='Apply')['href']\n",
    "    lst=[position, company, location, link]\n",
    "    with sqlite3.connect('jobs.db') as con:\n",
    "        cursor=con.cursor()\n",
    "        cursor.execute(f\"Insert into Jobs Values(?,?,?,?)\", lst)\n",
    "\n"
   ]
  },
  {
   "cell_type": "code",
   "execution_count": 2,
   "metadata": {},
   "outputs": [],
   "source": [
    "import requests\n",
    "from bs4 import BeautifulSoup\n",
    "import sqlite3\n",
    "lst_lst=[]\n",
    "for card in soup.find_all('div', class_=\"card\"):\n",
    "    position=card.find('h2', class_='title is-5').text.strip()\n",
    "    company=card.find('h3', class_='subtitle is-6 company').text.strip()\n",
    "    location=card.find('p', class_='location').text.strip()\n",
    "    link=card.find('a', string='Apply')['href']\n",
    "    lst=(position, company, location, link)\n",
    "    lst_lst.append(lst)\n",
    "    \n",
    "with sqlite3.connect(\"jobs.db\") as con:\n",
    "    cursor=con.cursor()\n",
    "    cursor.execute(\"Select * from Jobs\")\n",
    "    data=cursor.fetchall()\n",
    "l=len(lst_lst)\n",
    "i=0\n",
    "\n",
    "\n",
    "\n",
    "\n",
    "    "
   ]
  },
  {
   "cell_type": "code",
   "execution_count": 3,
   "metadata": {},
   "outputs": [],
   "source": [
    "data1=[]\n",
    "while i<l:\n",
    "    if lst_lst[i] in data:\n",
    "        pass\n",
    "    else:\n",
    "        data1.append(lst_lst[i])\n",
    "    i=i+1\n",
    "\n",
    "\n",
    "for job1 in data1:\n",
    "    for job in data:\n",
    "        if job1[1]==job[1]:\n",
    "            if job[2]==job[2]:\n",
    "                if job[3]==job[3]:\n",
    "                    job=job1\n",
    "                else:\n",
    "                    data.append[job1]\n",
    "            else:\n",
    "                data.append[job1]\n",
    "        else:\n",
    "             data.append[job1]\n",
    "\n",
    "\n",
    "\n",
    "\n",
    "l=len(data)\n",
    "while i<l:\n",
    "    with sqlite3.connect(\"jobs.db\") as con:\n",
    "        cursor=con.cursor()\n",
    "        cursor.execute(\"DROP TABLE Jobs\")\n",
    "        cursor.execete(\"Create Table Jobs(position text, company int, location text, link text)\")\n",
    "        cursor.execute(f\"Insert into Jobs Values(?,?,?,?)\",data[i])\n",
    "        data=cursor.fetchall()\n"
   ]
  },
  {
   "cell_type": "code",
   "execution_count": 4,
   "metadata": {},
   "outputs": [],
   "source": [
    "import csv \n",
    "loca=input(\"Please input location\")\n",
    "comp=input(\"Please input company name\")\n",
    "with sqlite3.connect('jobs.db') as con:\n",
    "    cursor=con.cursor()\n",
    "    cursor.execute(\"Select * from Jobs\")\n",
    "data=cursor.fetchall()\n",
    "for job in data:\n",
    "    if job[2]==loca:\n",
    "        if job[1]==comp:\n",
    "            pass\n",
    "        else:\n",
    "            data.remove(job)\n",
    "    else:\n",
    "        data.remove(job)\n",
    "data.insert(0, ['position', 'company', 'location', 'link'])\n",
    "with open(\"jobs.csv\", 'w') as file:\n",
    "    writer=csv.writer(file)\n",
    "    writer.writerows(data)\n",
    "\n",
    "\n",
    "\n"
   ]
  },
  {
   "cell_type": "code",
   "execution_count": 8,
   "metadata": {},
   "outputs": [
    {
     "name": "stdout",
     "output_type": "stream",
     "text": [
      "[('Senior Python Developer', 'Payne, Roberts and Davis', 'Stewartbury, AA', 'https://realpython.github.io/fake-jobs/jobs/senior-python-developer-0.html')]\n"
     ]
    }
   ],
   "source": [
    "loca=input(\"Please input location\")\n",
    "comp=input(\"Please input company name\")\n",
    "with sqlite3.connect('jobs.db') as con:\n",
    "    cursor=con.cursor()\n",
    "    cursor.execute(\"Select * from Jobs\")\n",
    "data=cursor.fetchall()\n",
    "data1=[]\n",
    "for job in data:\n",
    "    if loca==job[2]:\n",
    "        if job[1]==comp:\n",
    "            data1.append(job)\n",
    "data1.insert(0, ['position', 'company', 'location', 'link'])\n",
    "with open(\"jobs.csv\", 'w') as file:\n",
    "    writer=csv.writer(file)\n",
    "    writer.writerows(data1)\n",
    "\n"
   ]
  }
 ],
 "metadata": {
  "kernelspec": {
   "display_name": "Python 3",
   "language": "python",
   "name": "python3"
  },
  "language_info": {
   "codemirror_mode": {
    "name": "ipython",
    "version": 3
   },
   "file_extension": ".py",
   "mimetype": "text/x-python",
   "name": "python",
   "nbconvert_exporter": "python",
   "pygments_lexer": "ipython3",
   "version": "3.12.8"
  }
 },
 "nbformat": 4,
 "nbformat_minor": 2
}
