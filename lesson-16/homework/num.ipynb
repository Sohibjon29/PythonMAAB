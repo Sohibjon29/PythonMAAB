{
 "cells": [
  {
   "cell_type": "code",
   "execution_count": 35,
   "metadata": {},
   "outputs": [
    {
     "data": {
      "text/plain": [
       "array([  0.        ,  20.        ,  37.77777778, 100.        ,\n",
       "        25.        ])"
      ]
     },
     "execution_count": 35,
     "metadata": {},
     "output_type": "execute_result"
    }
   ],
   "source": [
    "import numpy as np\n",
    "def conv(faren: float):\n",
    "    return (faren-32)*5/9\n",
    "nconv=np.vectorize(conv)\n",
    "fars=np.array([32, 68, 100, 212, 77])\n",
    "conv(fars)\n"
   ]
  },
  {
   "cell_type": "code",
   "execution_count": 36,
   "metadata": {},
   "outputs": [
    {
     "data": {
      "text/plain": [
       "array([  2,   9,  64, 625])"
      ]
     },
     "execution_count": 36,
     "metadata": {},
     "output_type": "execute_result"
    }
   ],
   "source": [
    "def numpow(number:int, power:int):\n",
    "    return number**power\n",
    "vnumpow=np.vectorize(numpow)\n",
    "nums=[2, 3, 4, 5]\n",
    "pows=[1, 2, 3, 4]\n",
    "vnumpow(nums, pows)\n"
   ]
  },
  {
   "cell_type": "code",
   "execution_count": 37,
   "metadata": {},
   "outputs": [
    {
     "name": "stdout",
     "output_type": "stream",
     "text": [
      "[ 1.7027027   0.62162162 -0.48648649]\n"
     ]
    }
   ],
   "source": [
    "A=np.array([\n",
    "    [4, 5, 6], \n",
    "    [3, -1, 1],\n",
    "    [2, 1, -2]\n",
    "])\n",
    "b=np.array([7, 4, 5])\n",
    "ans=np.linalg.inv(A)@b\n",
    "print(ans)\n"
   ]
  },
  {
   "cell_type": "code",
   "execution_count": 38,
   "metadata": {},
   "outputs": [
    {
     "name": "stdout",
     "output_type": "stream",
     "text": [
      "[ 0.48963731 -0.2253886   2.21761658]\n"
     ]
    }
   ],
   "source": [
    "A=np.array([\n",
    "    [10, -2, 3], \n",
    "    [-2, 8, -1],\n",
    "    [3, -1, 6]\n",
    "])\n",
    "b=np.array([12, -5, 15])\n",
    "ans=np.linalg.inv(A)@b\n",
    "print(ans)\n"
   ]
  },
  {
   "cell_type": "code",
   "execution_count": 39,
   "metadata": {},
   "outputs": [],
   "source": [
    "from PIL import Image\n",
    "with Image.open('images/birds.jpg') as img:\n",
    "    img_arr=np.array(img)\n"
   ]
  },
  {
   "cell_type": "code",
   "execution_count": 40,
   "metadata": {},
   "outputs": [],
   "source": [
    "flip_arr=np.flip(img_arr, axis=0)\n",
    "flip_img=Image.fromarray(flip_arr)\n",
    "flip_img.save('images/flipped_image.png')\n"
   ]
  },
  {
   "cell_type": "code",
   "execution_count": 41,
   "metadata": {},
   "outputs": [],
   "source": [
    "import random\n",
    "nois_arr=img_arr+random.randint(0, 50)\n",
    "nois_img=Image.fromarray(nois_arr)\n",
    "nois_img.save('images/noisy_image.png')\n"
   ]
  },
  {
   "cell_type": "code",
   "execution_count": 42,
   "metadata": {},
   "outputs": [],
   "source": [
    "br_arr=img_arr\n",
    "br_arr[:,:,0]=br_arr[:,:,0]+40\n",
    "br_arr=np.clip(br_arr, 0, 255)\n",
    "br_img=Image.fromarray(br_arr)\n",
    "br_img.save('images/bright_image.png')\n"
   ]
  },
  {
   "cell_type": "code",
   "execution_count": 44,
   "metadata": {},
   "outputs": [],
   "source": [
    "with Image.open('images/birds.jpg') as img:\n",
    "    img_arr=np.array(img)\n",
    "mask_arr=img_arr\n",
    "mask_arr[310:410, 310:410, :]=0\n",
    "mask_img=Image.fromarray(mask_arr)\n",
    "mask_img.save('images/masked_image.png')\n"
   ]
  },
  {
   "cell_type": "code",
   "execution_count": null,
   "metadata": {},
   "outputs": [],
   "source": []
  },
  {
   "cell_type": "code",
   "execution_count": null,
   "metadata": {},
   "outputs": [],
   "source": []
  }
 ],
 "metadata": {
  "kernelspec": {
   "display_name": "Python 3",
   "language": "python",
   "name": "python3"
  },
  "language_info": {
   "codemirror_mode": {
    "name": "ipython",
    "version": 3
   },
   "file_extension": ".py",
   "mimetype": "text/x-python",
   "name": "python",
   "nbconvert_exporter": "python",
   "pygments_lexer": "ipython3",
   "version": "3.12.8"
  }
 },
 "nbformat": 4,
 "nbformat_minor": 2
}
