{
 "cells": [
  {
   "cell_type": "code",
   "execution_count": 30,
   "metadata": {},
   "outputs": [
    {
     "ename": "OperationalError",
     "evalue": "table Books already exists",
     "output_type": "error",
     "traceback": [
      "\u001b[1;31m---------------------------------------------------------------------------\u001b[0m",
      "\u001b[1;31mOperationalError\u001b[0m                          Traceback (most recent call last)",
      "Cell \u001b[1;32mIn[30], line 5\u001b[0m\n\u001b[0;32m      3\u001b[0m cursor\u001b[38;5;241m=\u001b[39mcon\u001b[38;5;241m.\u001b[39mcursor()\n\u001b[0;32m      4\u001b[0m query\u001b[38;5;241m=\u001b[39m\u001b[38;5;124m\"\u001b[39m\u001b[38;5;124mCreate table Books(title text, author text, year int, genre text)\u001b[39m\u001b[38;5;124m\"\u001b[39m\n\u001b[1;32m----> 5\u001b[0m \u001b[43mcursor\u001b[49m\u001b[38;5;241;43m.\u001b[39;49m\u001b[43mexecute\u001b[49m\u001b[43m(\u001b[49m\u001b[43mquery\u001b[49m\u001b[43m)\u001b[49m\n",
      "\u001b[1;31mOperationalError\u001b[0m: table Books already exists"
     ]
    }
   ],
   "source": [
    "import sqlite3\n",
    "with sqlite3.connect('library.db') as con:\n",
    "    cursor=con.cursor()\n",
    "    query=\"Create table Books(title text, author text, year int, genre text)\"\n",
    "    cursor.execute(query)\n"
   ]
  },
  {
   "cell_type": "code",
   "execution_count": 31,
   "metadata": {},
   "outputs": [
    {
     "ename": "OperationalError",
     "evalue": "table Books has 5 columns but 4 values were supplied",
     "output_type": "error",
     "traceback": [
      "\u001b[1;31m---------------------------------------------------------------------------\u001b[0m",
      "\u001b[1;31mOperationalError\u001b[0m                          Traceback (most recent call last)",
      "Cell \u001b[1;32mIn[31], line 7\u001b[0m\n\u001b[0;32m      2\u001b[0m cursor\u001b[38;5;241m=\u001b[39mcon\u001b[38;5;241m.\u001b[39mcursor()\n\u001b[0;32m      3\u001b[0m query\u001b[38;5;241m=\u001b[39m\u001b[38;5;124m\"\"\"\u001b[39m\u001b[38;5;124mInsert into Books Values(\u001b[39m\u001b[38;5;124m'\u001b[39m\u001b[38;5;124mTo Kill a Mockingbird\u001b[39m\u001b[38;5;124m'\u001b[39m\u001b[38;5;124m, \u001b[39m\u001b[38;5;124m'\u001b[39m\u001b[38;5;124mHarper Lee\u001b[39m\u001b[38;5;124m'\u001b[39m\u001b[38;5;124m, 1960, \u001b[39m\u001b[38;5;124m'\u001b[39m\u001b[38;5;124mFiction\u001b[39m\u001b[38;5;124m'\u001b[39m\u001b[38;5;124m),\u001b[39m\n\u001b[0;32m      4\u001b[0m \u001b[38;5;124m(\u001b[39m\u001b[38;5;124m'\u001b[39m\u001b[38;5;124m1984\u001b[39m\u001b[38;5;124m'\u001b[39m\u001b[38;5;124m, \u001b[39m\u001b[38;5;124m'\u001b[39m\u001b[38;5;124mGeorge Orwell\u001b[39m\u001b[38;5;124m'\u001b[39m\u001b[38;5;124m, 1949, \u001b[39m\u001b[38;5;124m'\u001b[39m\u001b[38;5;124mDystopian\u001b[39m\u001b[38;5;124m'\u001b[39m\u001b[38;5;124m),\u001b[39m\n\u001b[0;32m      5\u001b[0m \u001b[38;5;124m(\u001b[39m\u001b[38;5;124m'\u001b[39m\u001b[38;5;124mThe Great Gatsby\u001b[39m\u001b[38;5;124m'\u001b[39m\u001b[38;5;124m, \u001b[39m\u001b[38;5;124m'\u001b[39m\u001b[38;5;124mF. Scott Fitzgerald\u001b[39m\u001b[38;5;124m'\u001b[39m\u001b[38;5;124m, 1925, \u001b[39m\u001b[38;5;124m'\u001b[39m\u001b[38;5;124mClassic\u001b[39m\u001b[38;5;124m'\u001b[39m\u001b[38;5;124m);\u001b[39m\n\u001b[0;32m      6\u001b[0m \u001b[38;5;124m\u001b[39m\u001b[38;5;124m\"\"\"\u001b[39m\n\u001b[1;32m----> 7\u001b[0m \u001b[43mcursor\u001b[49m\u001b[38;5;241;43m.\u001b[39;49m\u001b[43mexecutescript\u001b[49m\u001b[43m(\u001b[49m\u001b[43mquery\u001b[49m\u001b[43m)\u001b[49m\n",
      "\u001b[1;31mOperationalError\u001b[0m: table Books has 5 columns but 4 values were supplied"
     ]
    }
   ],
   "source": [
    "with sqlite3.connect('library.db') as con:\n",
    "    cursor=con.cursor()\n",
    "    query=\"\"\"Insert into Books Values('To Kill a Mockingbird', 'Harper Lee', 1960, 'Fiction'),\n",
    "    ('1984', 'George Orwell', 1949, 'Dystopian'),\n",
    "    ('The Great Gatsby', 'F. Scott Fitzgerald', 1925, 'Classic');\n",
    "    \"\"\"\n",
    "    cursor.executescript(query)\n"
   ]
  },
  {
   "cell_type": "code",
   "execution_count": 32,
   "metadata": {},
   "outputs": [],
   "source": [
    "with sqlite3.connect('library.db') as con:\n",
    "    cursor=con.cursor()\n",
    "    query=\"\"\"Update Books set year=1950 where title='1984'\"\"\" \n",
    "    cursor.executescript(query)\n"
   ]
  },
  {
   "cell_type": "code",
   "execution_count": 33,
   "metadata": {},
   "outputs": [
    {
     "data": {
      "text/plain": [
       "[]"
      ]
     },
     "execution_count": 33,
     "metadata": {},
     "output_type": "execute_result"
    }
   ],
   "source": [
    "with sqlite3.connect('library.db') as con:\n",
    "    cursor=con.cursor()\n",
    "    query=\"\"\" Select title, author from Books where genre=\"Dystopian\"\n",
    "    \"\"\"\n",
    "    data=cursor.executescript(query)\n",
    "data.fetchall()\n"
   ]
  },
  {
   "cell_type": "code",
   "execution_count": 34,
   "metadata": {},
   "outputs": [],
   "source": [
    "with sqlite3.connect('library.db') as con:\n",
    "    cursor=con.cursor()\n",
    "    query='Delete from Books where year<1950'\n",
    "    cursor.execute(query)\n"
   ]
  },
  {
   "cell_type": "code",
   "execution_count": 35,
   "metadata": {},
   "outputs": [
    {
     "ename": "OperationalError",
     "evalue": "duplicate column name: rating",
     "output_type": "error",
     "traceback": [
      "\u001b[1;31m---------------------------------------------------------------------------\u001b[0m",
      "\u001b[1;31mOperationalError\u001b[0m                          Traceback (most recent call last)",
      "Cell \u001b[1;32mIn[35], line 4\u001b[0m\n\u001b[0;32m      2\u001b[0m cursor\u001b[38;5;241m=\u001b[39mcon\u001b[38;5;241m.\u001b[39mcursor()\n\u001b[0;32m      3\u001b[0m query\u001b[38;5;241m=\u001b[39m\u001b[38;5;124m'\u001b[39m\u001b[38;5;124mAlter table Books add rating float\u001b[39m\u001b[38;5;124m'\u001b[39m\n\u001b[1;32m----> 4\u001b[0m \u001b[43mcursor\u001b[49m\u001b[38;5;241;43m.\u001b[39;49m\u001b[43mexecute\u001b[49m\u001b[43m(\u001b[49m\u001b[43mquery\u001b[49m\u001b[43m)\u001b[49m\n",
      "\u001b[1;31mOperationalError\u001b[0m: duplicate column name: rating"
     ]
    }
   ],
   "source": [
    "with sqlite3.connect('library.db') as con:\n",
    "    cursor=con.cursor()\n",
    "    query='Alter table Books add rating float'\n",
    "    cursor.execute(query)\n"
   ]
  },
  {
   "cell_type": "code",
   "execution_count": null,
   "metadata": {},
   "outputs": [],
   "source": [
    "with sqlite3.connect('library.db') as con:\n",
    "    cursor=con.cursor()\n",
    "    query=\"\"\"Update Books set rating=4.8 where title='To Kill a Mockingbird';\n",
    "    Update Books set rating=4.7 where title='1984';\n",
    "    Update Books set rating=4.5 where title='The Great Gatsby';\n",
    "    \"\"\"\n",
    "\n",
    "    cursor.executescript(query)\n"
   ]
  },
  {
   "cell_type": "code",
   "execution_count": 37,
   "metadata": {},
   "outputs": [
    {
     "data": {
      "text/plain": [
       "[('1984', 'George Orwell', 1950, 'Dystopian', 4.7),\n",
       " ('To Kill a Mockingbird', 'Harper Lee', 1960, 'Fiction', 4.8)]"
      ]
     },
     "execution_count": 37,
     "metadata": {},
     "output_type": "execute_result"
    }
   ],
   "source": [
    "with sqlite3.connect('library.db') as con:\n",
    "    cursor=con.cursor()\n",
    "    query=\"Select * from Books Order by year ASC\"\n",
    "    data=cursor.execute(query)\n",
    "data.fetchall()\n"
   ]
  },
  {
   "cell_type": "code",
   "execution_count": null,
   "metadata": {},
   "outputs": [],
   "source": []
  }
 ],
 "metadata": {
  "kernelspec": {
   "display_name": "Python 3",
   "language": "python",
   "name": "python3"
  },
  "language_info": {
   "codemirror_mode": {
    "name": "ipython",
    "version": 3
   },
   "file_extension": ".py",
   "mimetype": "text/x-python",
   "name": "python",
   "nbconvert_exporter": "python",
   "pygments_lexer": "ipython3",
   "version": "3.12.8"
  }
 },
 "nbformat": 4,
 "nbformat_minor": 2
}
