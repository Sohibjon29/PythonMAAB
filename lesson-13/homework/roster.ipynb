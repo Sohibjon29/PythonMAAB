{
 "cells": [
  {
   "cell_type": "code",
   "execution_count": null,
   "metadata": {},
   "outputs": [],
   "source": [
    "import sqlite3\n",
    "with sqlite3.connect('roster1.db') as con:\n",
    "    cursor=con.cursor()\n",
    "    query=\"\"\"Create table Roster(name text, species text, age int);\n",
    "    Insert into Roster Values('Benjamin Sisko', 'Human', 40), \n",
    "    ('Jadzia Dax', 'Trill', 300),\n",
    "    ('Kira Nerys', 'Bajoran', 29);  \n",
    "    \n",
    "    \"\"\"\n",
    "    cursor.executescript(query)\n"
   ]
  },
  {
   "cell_type": "code",
   "execution_count": 12,
   "metadata": {},
   "outputs": [],
   "source": [
    "with sqlite3.connect('roster1.db') as con:\n",
    "    cursor=con.cursor()\n",
    "    query=\"\"\"Update Roster set name = 'Ezri Dax' where name = 'Jadzia Dax';\n",
    "    \"\"\"\n",
    "    cursor.execute(query)\n",
    "\n",
    "\n"
   ]
  },
  {
   "cell_type": "code",
   "execution_count": null,
   "metadata": {},
   "outputs": [
    {
     "data": {
      "text/plain": [
       "[('Kira Nerys', 29)]"
      ]
     },
     "execution_count": 18,
     "metadata": {},
     "output_type": "execute_result"
    }
   ],
   "source": [
    "with sqlite3.connect('roster1.db') as con:\n",
    "    cursor=con.cursor()\n",
    "    query=\"Select name, age from Roster where species='Bajoran'\"\n",
    "    data=cursor.execute(query)\n",
    "data.fetchall()\n"
   ]
  },
  {
   "cell_type": "code",
   "execution_count": 21,
   "metadata": {},
   "outputs": [],
   "source": [
    "with sqlite3.connect('roster1.db') as con:\n",
    "    cursor=con.cursor()\n",
    "    query=\"Delete from Roster where age>100\"\n",
    "    data=cursor.execute(query)\n"
   ]
  },
  {
   "cell_type": "code",
   "execution_count": null,
   "metadata": {},
   "outputs": [],
   "source": [
    "import sqlite3\n",
    "with sqlite3.connect('roster1.db') as con:\n",
    "    cursor=con.cursor()\n",
    "    query=\"\"\"Alter table Roster add rank text;\n",
    "    update Roster set rank=\"Captain\" where name=\"Benjamin Sisko\";\n",
    "    update Roster set rank=\"Lieutenant\" where name=\"Ezri Dax\";\n",
    "    update Roster set rank=\"Major\" where name=\"Kira Nerys\";\n",
    "    \"\"\"\n",
    "    cursor.executescript(query)\n"
   ]
  },
  {
   "cell_type": "code",
   "execution_count": null,
   "metadata": {},
   "outputs": [
    {
     "data": {
      "text/plain": [
       "[('Benjamin Sisko', 'Human', 40, 'Captain'),\n",
       " ('Kira Nerys', 'Bajoran', 29, 'Major')]"
      ]
     },
     "execution_count": 7,
     "metadata": {},
     "output_type": "execute_result"
    }
   ],
   "source": [
    "with sqlite3.connect('roster1.db') as con:\n",
    "    cursor=con.cursor()\n",
    "    query=\"Select * from Roster Order by age desc\"\n",
    "    data=cursor.execute(query)\n",
    "data.fetchall()\n"
   ]
  },
  {
   "cell_type": "code",
   "execution_count": null,
   "metadata": {},
   "outputs": [],
   "source": []
  }
 ],
 "metadata": {
  "kernelspec": {
   "display_name": "Python 3",
   "language": "python",
   "name": "python3"
  },
  "language_info": {
   "codemirror_mode": {
    "name": "ipython",
    "version": 3
   },
   "file_extension": ".py",
   "mimetype": "text/x-python",
   "name": "python",
   "nbconvert_exporter": "python",
   "pygments_lexer": "ipython3",
   "version": "3.12.8"
  }
 },
 "nbformat": 4,
 "nbformat_minor": 2
}
