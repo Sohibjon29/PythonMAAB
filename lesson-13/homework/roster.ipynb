{
 "cells": [
  {
   "cell_type": "code",
   "execution_count": 2,
   "metadata": {},
   "outputs": [
    {
     "ename": "OperationalError",
     "evalue": "table Roster already exists",
     "output_type": "error",
     "traceback": [
      "\u001b[1;31m---------------------------------------------------------------------------\u001b[0m",
      "\u001b[1;31mOperationalError\u001b[0m                          Traceback (most recent call last)",
      "Cell \u001b[1;32mIn[2], line 10\u001b[0m\n\u001b[0;32m      3\u001b[0m cursor\u001b[38;5;241m=\u001b[39mcon\u001b[38;5;241m.\u001b[39mcursor()\n\u001b[0;32m      4\u001b[0m query\u001b[38;5;241m=\u001b[39m\u001b[38;5;124m\"\"\"\u001b[39m\u001b[38;5;124mCreate table Roster(name text, species text, age int);\u001b[39m\n\u001b[0;32m      5\u001b[0m \u001b[38;5;124mInsert into Roster Values(\u001b[39m\u001b[38;5;124m'\u001b[39m\u001b[38;5;124mBenjamin Sisko\u001b[39m\u001b[38;5;124m'\u001b[39m\u001b[38;5;124m, \u001b[39m\u001b[38;5;124m'\u001b[39m\u001b[38;5;124mHuman\u001b[39m\u001b[38;5;124m'\u001b[39m\u001b[38;5;124m, 40), \u001b[39m\n\u001b[0;32m      6\u001b[0m \u001b[38;5;124m(\u001b[39m\u001b[38;5;124m'\u001b[39m\u001b[38;5;124mJadzia Dax\u001b[39m\u001b[38;5;124m'\u001b[39m\u001b[38;5;124m, \u001b[39m\u001b[38;5;124m'\u001b[39m\u001b[38;5;124mTrill\u001b[39m\u001b[38;5;124m'\u001b[39m\u001b[38;5;124m, 300),\u001b[39m\n\u001b[0;32m      7\u001b[0m \u001b[38;5;124m(\u001b[39m\u001b[38;5;124m'\u001b[39m\u001b[38;5;124mKira Nerys\u001b[39m\u001b[38;5;124m'\u001b[39m\u001b[38;5;124m, \u001b[39m\u001b[38;5;124m'\u001b[39m\u001b[38;5;124mBajoran\u001b[39m\u001b[38;5;124m'\u001b[39m\u001b[38;5;124m, 29);  \u001b[39m\n\u001b[0;32m      8\u001b[0m \u001b[38;5;124m\u001b[39m\n\u001b[0;32m      9\u001b[0m \u001b[38;5;124m\u001b[39m\u001b[38;5;124m\"\"\"\u001b[39m\n\u001b[1;32m---> 10\u001b[0m \u001b[43mcursor\u001b[49m\u001b[38;5;241;43m.\u001b[39;49m\u001b[43mexecutescript\u001b[49m\u001b[43m(\u001b[49m\u001b[43mquery\u001b[49m\u001b[43m)\u001b[49m\n",
      "\u001b[1;31mOperationalError\u001b[0m: table Roster already exists"
     ]
    }
   ],
   "source": [
    "import sqlite3\n",
    "with sqlite3.connect('roster1.db') as con:\n",
    "    cursor=con.cursor()\n",
    "    query=\"\"\"Create table Roster(name text, species text, age int);\n",
    "    Insert into Roster Values('Benjamin Sisko', 'Human', 40), \n",
    "    ('Jadzia Dax', 'Trill', 300),\n",
    "    ('Kira Nerys', 'Bajoran', 29);  \n",
    "    \n",
    "    \"\"\"\n",
    "    cursor.executescript(query)\n"
   ]
  },
  {
   "cell_type": "code",
   "execution_count": 3,
   "metadata": {},
   "outputs": [],
   "source": [
    "with sqlite3.connect('roster1.db') as con:\n",
    "    cursor=con.cursor()\n",
    "    query=\"\"\"Update Roster set name = 'Ezri Dax' where name = 'Jadzia Dax';\n",
    "    \"\"\"\n",
    "    cursor.execute(query)\n",
    "\n",
    "\n"
   ]
  },
  {
   "cell_type": "code",
   "execution_count": 4,
   "metadata": {},
   "outputs": [
    {
     "data": {
      "text/plain": [
       "sqlite3.Cursor"
      ]
     },
     "execution_count": 4,
     "metadata": {},
     "output_type": "execute_result"
    }
   ],
   "source": [
    "with sqlite3.connect('roster1.db') as con:\n",
    "    cursor=con.cursor()\n",
    "    query=\"Select name, age from Roster where species='Bajoran'\"\n",
    "    data=cursor.execute(query)\n",
    "data.fetchall()\n",
    "type(data)\n"
   ]
  },
  {
   "cell_type": "code",
   "execution_count": 5,
   "metadata": {},
   "outputs": [],
   "source": [
    "with sqlite3.connect('roster1.db') as con:\n",
    "    cursor=con.cursor()\n",
    "    query=\"Delete from Roster where age>100\"\n",
    "    data=cursor.execute(query)\n"
   ]
  },
  {
   "cell_type": "code",
   "execution_count": 6,
   "metadata": {},
   "outputs": [
    {
     "ename": "OperationalError",
     "evalue": "duplicate column name: rank",
     "output_type": "error",
     "traceback": [
      "\u001b[1;31m---------------------------------------------------------------------------\u001b[0m",
      "\u001b[1;31mOperationalError\u001b[0m                          Traceback (most recent call last)",
      "Cell \u001b[1;32mIn[6], line 9\u001b[0m\n\u001b[0;32m      3\u001b[0m cursor\u001b[38;5;241m=\u001b[39mcon\u001b[38;5;241m.\u001b[39mcursor()\n\u001b[0;32m      4\u001b[0m query\u001b[38;5;241m=\u001b[39m\u001b[38;5;124m\"\"\"\u001b[39m\u001b[38;5;124mAlter table Roster add rank text;\u001b[39m\n\u001b[0;32m      5\u001b[0m \u001b[38;5;124mupdate Roster set rank=\u001b[39m\u001b[38;5;124m\"\u001b[39m\u001b[38;5;124mCaptain\u001b[39m\u001b[38;5;124m\"\u001b[39m\u001b[38;5;124m where name=\u001b[39m\u001b[38;5;124m\"\u001b[39m\u001b[38;5;124mBenjamin Sisko\u001b[39m\u001b[38;5;124m\"\u001b[39m\u001b[38;5;124m;\u001b[39m\n\u001b[0;32m      6\u001b[0m \u001b[38;5;124mupdate Roster set rank=\u001b[39m\u001b[38;5;124m\"\u001b[39m\u001b[38;5;124mLieutenant\u001b[39m\u001b[38;5;124m\"\u001b[39m\u001b[38;5;124m where name=\u001b[39m\u001b[38;5;124m\"\u001b[39m\u001b[38;5;124mEzri Dax\u001b[39m\u001b[38;5;124m\"\u001b[39m\u001b[38;5;124m;\u001b[39m\n\u001b[0;32m      7\u001b[0m \u001b[38;5;124mupdate Roster set rank=\u001b[39m\u001b[38;5;124m\"\u001b[39m\u001b[38;5;124mMajor\u001b[39m\u001b[38;5;124m\"\u001b[39m\u001b[38;5;124m where name=\u001b[39m\u001b[38;5;124m\"\u001b[39m\u001b[38;5;124mKira Nerys\u001b[39m\u001b[38;5;124m\"\u001b[39m\u001b[38;5;124m;\u001b[39m\n\u001b[0;32m      8\u001b[0m \u001b[38;5;124m\u001b[39m\u001b[38;5;124m\"\"\"\u001b[39m\n\u001b[1;32m----> 9\u001b[0m \u001b[43mcursor\u001b[49m\u001b[38;5;241;43m.\u001b[39;49m\u001b[43mexecutescript\u001b[49m\u001b[43m(\u001b[49m\u001b[43mquery\u001b[49m\u001b[43m)\u001b[49m\n",
      "\u001b[1;31mOperationalError\u001b[0m: duplicate column name: rank"
     ]
    }
   ],
   "source": [
    "import sqlite3\n",
    "with sqlite3.connect('roster1.db') as con:\n",
    "    cursor=con.cursor()\n",
    "    query=\"\"\"Alter table Roster add rank text;\n",
    "    update Roster set rank=\"Captain\" where name=\"Benjamin Sisko\";\n",
    "    update Roster set rank=\"Lieutenant\" where name=\"Ezri Dax\";\n",
    "    update Roster set rank=\"Major\" where name=\"Kira Nerys\";\n",
    "    \"\"\"\n",
    "    cursor.executescript(query)\n"
   ]
  },
  {
   "cell_type": "code",
   "execution_count": null,
   "metadata": {},
   "outputs": [
    {
     "data": {
      "text/plain": [
       "(('Benjamin Sisko', 'Human', 40, 'Captain'),)"
      ]
     },
     "execution_count": 14,
     "metadata": {},
     "output_type": "execute_result"
    }
   ],
   "source": [
    "with sqlite3.connect('roster1.db') as con:\n",
    "    cursor=con.cursor()\n",
    "    query=\"Select * from Roster Order by age desc\"\n",
    "    data=cursor.execute(query)\n",
    "data.fetchall()\n",
    "\n"
   ]
  },
  {
   "cell_type": "code",
   "execution_count": null,
   "metadata": {},
   "outputs": [],
   "source": []
  }
 ],
 "metadata": {
  "kernelspec": {
   "display_name": "Python 3",
   "language": "python",
   "name": "python3"
  },
  "language_info": {
   "codemirror_mode": {
    "name": "ipython",
    "version": 3
   },
   "file_extension": ".py",
   "mimetype": "text/x-python",
   "name": "python",
   "nbconvert_exporter": "python",
   "pygments_lexer": "ipython3",
   "version": "3.12.8"
  }
 },
 "nbformat": 4,
 "nbformat_minor": 2
}
