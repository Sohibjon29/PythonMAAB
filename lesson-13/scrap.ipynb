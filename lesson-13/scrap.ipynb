{
 "cells": [
  {
   "cell_type": "code",
   "execution_count": null,
   "metadata": {},
   "outputs": [
    {
     "data": {
      "text/plain": [
       "('2025-01-13 20:58:36',)"
      ]
     },
     "execution_count": 30,
     "metadata": {},
     "output_type": "execute_result"
    }
   ],
   "source": [
    "import sqlite3\n",
    "con=sqlite3.connect(\":memory:\")\n",
    "query='Select datetime(\"now\", \"localtime\")'\n",
    "cursor=con.cursor()\n",
    "time=cursor.execute(query)\n",
    "time.fetchone()\n"
   ]
  },
  {
   "cell_type": "code",
   "execution_count": null,
   "metadata": {},
   "outputs": [
    {
     "ename": "OperationalError",
     "evalue": "table Students already exists",
     "output_type": "error",
     "traceback": [
      "\u001b[1;31m---------------------------------------------------------------------------\u001b[0m",
      "\u001b[1;31mOperationalError\u001b[0m                          Traceback (most recent call last)",
      "Cell \u001b[1;32mIn[12], line 4\u001b[0m\n\u001b[0;32m      2\u001b[0m cursor\u001b[38;5;241m=\u001b[39mconn\u001b[38;5;241m.\u001b[39mcursor()\n\u001b[0;32m      3\u001b[0m query\u001b[38;5;241m=\u001b[39m\u001b[38;5;124m'\u001b[39m\u001b[38;5;124mCreate table Students(fname text, class int, age int);\u001b[39m\u001b[38;5;124m'\u001b[39m\n\u001b[1;32m----> 4\u001b[0m \u001b[43mcursor\u001b[49m\u001b[38;5;241;43m.\u001b[39;49m\u001b[43mexecute\u001b[49m\u001b[43m(\u001b[49m\u001b[43mquery\u001b[49m\u001b[43m)\u001b[49m\n",
      "\u001b[1;31mOperationalError\u001b[0m: table Students already exists"
     ]
    }
   ],
   "source": [
    "with sqlite3.connect('students.db') as conn:\n",
    "    cursor=conn.cursor()\n",
    "    query='Create table Students(fname text, class int, age int);'\n",
    "    cursor.execute(query)\n"
   ]
  },
  {
   "cell_type": "code",
   "execution_count": null,
   "metadata": {},
   "outputs": [],
   "source": [
    "with sqlite3.connect('students.db') as conn:\n",
    "    cursor=conn.cursor()\n",
    "    query='Insert into Students Values(\"Sohibjon\", 12, 18);'\n",
    "    data=cursor.execute(query)\n",
    "data.fetchone()\n"
   ]
  },
  {
   "cell_type": "code",
   "execution_count": null,
   "metadata": {},
   "outputs": [
    {
     "data": {
      "text/plain": [
       "[('Sohibjon', 12, 18),\n",
       " ('Sohibjon', 12, 18),\n",
       " ('Sohibjon', 12, 18),\n",
       " ('Sohibjon', 12, 18),\n",
       " ('Sohibjon', 12, 18),\n",
       " ('Sohibjon', 12, 18)]"
      ]
     },
     "execution_count": 33,
     "metadata": {},
     "output_type": "execute_result"
    }
   ],
   "source": [
    "with sqlite3.connect('students.db') as conn:\n",
    "    cursor=conn.cursor()\n",
    "    query='Select * from Students order by age'\n",
    "    data=cursor.execute(query)\n",
    "data.fetchall()\n"
   ]
  },
  {
   "cell_type": "code",
   "execution_count": 57,
   "metadata": {},
   "outputs": [
    {
     "name": "stdout",
     "output_type": "stream",
     "text": [
      "<class 'str'>\n"
     ]
    }
   ],
   "source": [
    "name=input(\"Name?\")\n",
    "clas=int(input(\"Clas?\"))\n",
    "age=int(input('age?'))\n",
    "inputs=(name, clas, age)\n",
    "query=(f\"Insert into Students Values(?,?,?), {inputs}\")\n",
    "print(type(query))\n",
    "\n",
    "\n",
    "\n",
    "with sqlite3.connect('students.db') as conn:\n",
    "    cursor=conn.cursor()\n",
    "    cursor.execute(f\"Insert into Students Values(?,?,?)\", inputs)\n",
    "\n",
    "\n"
   ]
  },
  {
   "cell_type": "code",
   "execution_count": null,
   "metadata": {},
   "outputs": [],
   "source": []
  },
  {
   "cell_type": "code",
   "execution_count": null,
   "metadata": {},
   "outputs": [],
   "source": []
  }
 ],
 "metadata": {
  "kernelspec": {
   "display_name": "Python 3",
   "language": "python",
   "name": "python3"
  },
  "language_info": {
   "codemirror_mode": {
    "name": "ipython",
    "version": 3
   },
   "file_extension": ".py",
   "mimetype": "text/x-python",
   "name": "python",
   "nbconvert_exporter": "python",
   "pygments_lexer": "ipython3",
   "version": "3.12.8"
  }
 },
 "nbformat": 4,
 "nbformat_minor": 2
}
