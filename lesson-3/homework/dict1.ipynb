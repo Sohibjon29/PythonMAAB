{
 "cells": [
  {
   "cell_type": "code",
   "execution_count": 1,
   "metadata": {},
   "outputs": [
    {
     "name": "stdout",
     "output_type": "stream",
     "text": [
      "2\n"
     ]
    }
   ],
   "source": [
    "dic = {\"a\": 1, \"b\": 2, \"c\": 3}\n",
    "key = \"b\"\n",
    "val = dic.get(key, None)\n",
    "print(val)\n"
   ]
  },
  {
   "cell_type": "code",
   "execution_count": 2,
   "metadata": {},
   "outputs": [
    {
     "name": "stdout",
     "output_type": "stream",
     "text": [
      "False\n"
     ]
    }
   ],
   "source": [
    "dic = {\"a\": 1, \"b\": 2, \"c\": 3}\n",
    "key = \"d\"\n",
    "chk = key in dic\n",
    "print(chk)\n"
   ]
  },
  {
   "cell_type": "code",
   "execution_count": 3,
   "metadata": {},
   "outputs": [
    {
     "name": "stdout",
     "output_type": "stream",
     "text": [
      "3\n"
     ]
    }
   ],
   "source": [
    "dic = {\"a\": 1, \"b\": 2, \"c\": 3}\n",
    "cnt = len(dic)\n",
    "print(cnt)\n"
   ]
  },
  {
   "cell_type": "code",
   "execution_count": 4,
   "metadata": {},
   "outputs": [
    {
     "name": "stdout",
     "output_type": "stream",
     "text": [
      "['a', 'b', 'c']\n"
     ]
    }
   ],
   "source": [
    "dic = {\"a\": 1, \"b\": 2, \"c\": 3}\n",
    "keys = list(dic.keys())\n",
    "print(keys)\n"
   ]
  },
  {
   "cell_type": "code",
   "execution_count": 5,
   "metadata": {},
   "outputs": [
    {
     "name": "stdout",
     "output_type": "stream",
     "text": [
      "[1, 2, 3]\n"
     ]
    }
   ],
   "source": [
    "dic = {\"a\": 1, \"b\": 2, \"c\": 3}\n",
    "vals = list(dic.values())\n",
    "print(vals)\n"
   ]
  },
  {
   "cell_type": "code",
   "execution_count": 6,
   "metadata": {},
   "outputs": [
    {
     "name": "stdout",
     "output_type": "stream",
     "text": [
      "{'a': 1, 'b': 2, 'c': 3, 'd': 4}\n"
     ]
    }
   ],
   "source": [
    "dic1 = {\"a\": 1, \"b\": 2}\n",
    "dic2 = {\"c\": 3, \"d\": 4}\n",
    "mer = {**dic1, **dic2}\n",
    "print(mer)\n"
   ]
  },
  {
   "cell_type": "code",
   "execution_count": 7,
   "metadata": {},
   "outputs": [
    {
     "name": "stdout",
     "output_type": "stream",
     "text": [
      "{'a': 1, 'c': 3}\n"
     ]
    }
   ],
   "source": [
    "dic = {\"a\": 1, \"b\": 2, \"c\": 3}\n",
    "key = \"b\"\n",
    "dic.pop(key, None)\n",
    "print(dic)\n"
   ]
  },
  {
   "cell_type": "code",
   "execution_count": 8,
   "metadata": {},
   "outputs": [
    {
     "name": "stdout",
     "output_type": "stream",
     "text": [
      "True\n"
     ]
    }
   ],
   "source": [
    "dic = {}\n",
    "emp = len(dic) == 0\n",
    "print(emp)\n"
   ]
  },
  {
   "cell_type": "code",
   "execution_count": 9,
   "metadata": {},
   "outputs": [
    {
     "name": "stdout",
     "output_type": "stream",
     "text": [
      "('b', 2)\n"
     ]
    }
   ],
   "source": [
    "dic = {\"a\": 1, \"b\": 2, \"c\": 3}\n",
    "key = \"b\"\n",
    "if key in dic:\n",
    "    res = (key, dic[key]) \n",
    "else:\n",
    "     None\n",
    "print(res)\n"
   ]
  },
  {
   "cell_type": "code",
   "execution_count": 10,
   "metadata": {},
   "outputs": [
    {
     "name": "stdout",
     "output_type": "stream",
     "text": [
      "{'a': 1, 'b': 5}\n"
     ]
    }
   ],
   "source": [
    "dic = {\"a\": 1, \"b\": 2}\n",
    "key = \"b\"\n",
    "dic[key] = 5\n",
    "print(dic)\n"
   ]
  },
  {
   "cell_type": "code",
   "execution_count": 11,
   "metadata": {},
   "outputs": [
    {
     "name": "stdout",
     "output_type": "stream",
     "text": [
      "2\n"
     ]
    }
   ],
   "source": [
    "dic = {\"a\": 1, \"b\": 2, \"c\": 1, \"d\": 2}\n",
    "val = 2\n",
    "cnt = list(dic.values()).count(val)\n",
    "print(cnt)\n"
   ]
  },
  {
   "cell_type": "code",
   "execution_count": null,
   "metadata": {},
   "outputs": [
    {
     "name": "stdout",
     "output_type": "stream",
     "text": [
      "dict_keys(['a', 'b', 'c', 'd'])\n"
     ]
    },
    {
     "ename": "AttributeError",
     "evalue": "'NoneType' object has no attribute 'append'",
     "output_type": "error",
     "traceback": [
      "\u001b[1;31m---------------------------------------------------------------------------\u001b[0m",
      "\u001b[1;31mAttributeError\u001b[0m                            Traceback (most recent call last)",
      "Cell \u001b[1;32mIn[22], line 8\u001b[0m\n\u001b[0;32m      6\u001b[0m \u001b[38;5;28;01mfor\u001b[39;00m k \u001b[38;5;129;01min\u001b[39;00m kys:\n\u001b[0;32m      7\u001b[0m     \u001b[38;5;28;01mif\u001b[39;00m dic[k]\u001b[38;5;241m==\u001b[39mval:\n\u001b[1;32m----> 8\u001b[0m         k2\u001b[38;5;241m=\u001b[39m\u001b[43mk2\u001b[49m\u001b[38;5;241;43m.\u001b[39;49m\u001b[43mappend\u001b[49m(k)\n\u001b[0;32m      9\u001b[0m \u001b[38;5;28mprint\u001b[39m(k2)\n",
      "\u001b[1;31mAttributeError\u001b[0m: 'NoneType' object has no attribute 'append'"
     ]
    }
   ],
   "source": [
    "dic = {\"a\": 1, \"b\": 2, \"c\": 1, \"d\": 2}\n",
    "kys=dic.keys()\n",
    "k2=list()\n",
    "val=1\n",
    "print(kys)\n",
    "for k in kys:\n",
    "    if dic[k]==val:\n",
    "        k2=k2.append(k)\n",
    "print(k2)\n"
   ]
  },
  {
   "cell_type": "code",
   "execution_count": null,
   "metadata": {},
   "outputs": [
    {
     "name": "stdout",
     "output_type": "stream",
     "text": [
      "{'a': 1, 'b': 2, 'c': 3}\n"
     ]
    }
   ],
   "source": [
    "lst1 = [\"a\", \"b\", \"c\"]\n",
    "lst2 = [1, 2, 3]\n",
    "dic=dict()\n",
    "i=0\n",
    "while i<3:\n",
    "    dic[lst1[i]]=lst2[i]\n",
    "    i=i+1\n",
    "print(dic)\n"
   ]
  },
  {
   "cell_type": "code",
   "execution_count": 30,
   "metadata": {},
   "outputs": [
    {
     "name": "stdout",
     "output_type": "stream",
     "text": [
      "there is dictionary\n",
      "there is dictionary\n"
     ]
    }
   ],
   "source": [
    "dic = {\"a\": {\"x\": 1}, \"b\": 2, \"c\": {\"y\": 3}}\n",
    "for i in dic:\n",
    "    if type(dic[i])==dict:\n",
    "        print(\"there is dictionary\")\n",
    "        \n"
   ]
  },
  {
   "cell_type": "code",
   "execution_count": 33,
   "metadata": {},
   "outputs": [
    {
     "name": "stdout",
     "output_type": "stream",
     "text": [
      "1\n"
     ]
    }
   ],
   "source": [
    "dic = {\"a\": {\"x\": 1}, \"b\": {\"y\": 2}}\n",
    "key1 = \"a\"\n",
    "key2 = \"x\"\n",
    "print(dic[key1][key2])\n"
   ]
  },
  {
   "cell_type": "code",
   "execution_count": null,
   "metadata": {},
   "outputs": [],
   "source": [
    "#Problem 18, tushunmadim\n"
   ]
  },
  {
   "cell_type": "code",
   "execution_count": null,
   "metadata": {},
   "outputs": [
    {
     "name": "stdout",
     "output_type": "stream",
     "text": [
      "2\n"
     ]
    }
   ],
   "source": [
    "dic = {\"a\": 1, \"b\": 2, \"c\": 1, \"d\": 2}\n",
    "lst=dic.values()\n",
    "st=set(lst)\n",
    "print(len(st))\n"
   ]
  },
  {
   "cell_type": "code",
   "execution_count": 44,
   "metadata": {},
   "outputs": [
    {
     "name": "stdout",
     "output_type": "stream",
     "text": [
      "{'a': 1, 'b': 3, 'c': 5, 'd': 4}\n"
     ]
    }
   ],
   "source": [
    "dic = {\"a\": 1, \"b\": 3, \"c\": 5, \"d\": 4}\n",
    "lst=list(dic.keys())\n",
    "lst.sort()\n",
    "dic1=dict()\n",
    "for i in lst:\n",
    "    dic1[i]=dic[i]\n",
    "print(dic1)\n"
   ]
  },
  {
   "cell_type": "code",
   "execution_count": null,
   "metadata": {},
   "outputs": [],
   "source": [
    "#21 Qilolmadim\n"
   ]
  },
  {
   "cell_type": "code",
   "execution_count": null,
   "metadata": {},
   "outputs": [
    {
     "name": "stdout",
     "output_type": "stream",
     "text": [
      "{'a': 1, 'b': 3}\n"
     ]
    }
   ],
   "source": [
    "dic = {\"a\": 1, \"b\": 3, \"c\": 5, \"d\": 4}\n",
    "dic1=dict()\n",
    "for i in dic:\n",
    "    if dic[i]<4:\n",
    "        dic1[i]=dic[i]\n",
    "print(dic1)\n"
   ]
  },
  {
   "cell_type": "code",
   "execution_count": null,
   "metadata": {},
   "outputs": [
    {
     "name": "stdout",
     "output_type": "stream",
     "text": [
      "Yes\n"
     ]
    }
   ],
   "source": [
    "dic = {\"a\": 1, \"b\": 3, \"c\": 5, \"d\": 4}\n",
    "dic1= {'a': 1, 'b': 3}\n",
    "for i in dic1:\n",
    "    if dic1[i]==True:\n",
    "        print(\"Yes\")\n"
   ]
  },
  {
   "cell_type": "code",
   "execution_count": null,
   "metadata": {},
   "outputs": [
    {
     "name": "stdout",
     "output_type": "stream",
     "text": [
      "{'a': 3, 'b': 4, 'c': 5}\n"
     ]
    }
   ],
   "source": [
    "tup=(('a', 3), ('b', 4), ('c', 5))\n",
    "dic=dict(tup)\n",
    "print(dic)\n"
   ]
  },
  {
   "cell_type": "code",
   "execution_count": null,
   "metadata": {},
   "outputs": [
    {
     "name": "stdout",
     "output_type": "stream",
     "text": [
      "('a', 1)\n"
     ]
    }
   ],
   "source": [
    "dic = {\"a\": 1, \"b\": 3, \"c\": 5, \"d\": 4}\n",
    "tup=dic.items()\n",
    "lst=list(tup)\n",
    "print(lst[0])\n"
   ]
  },
  {
   "cell_type": "code",
   "execution_count": null,
   "metadata": {},
   "outputs": [],
   "source": []
  }
 ],
 "metadata": {
  "kernelspec": {
   "display_name": "Python 3",
   "language": "python",
   "name": "python3"
  },
  "language_info": {
   "codemirror_mode": {
    "name": "ipython",
    "version": 3
   },
   "file_extension": ".py",
   "mimetype": "text/x-python",
   "name": "python",
   "nbconvert_exporter": "python",
   "pygments_lexer": "ipython3",
   "version": "3.12.8"
  }
 },
 "nbformat": 4,
 "nbformat_minor": 2
}
