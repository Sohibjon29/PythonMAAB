{
 "cells": [
  {
   "cell_type": "code",
   "execution_count": null,
   "metadata": {},
   "outputs": [],
   "source": [
    "tpl = (1, 2, 3, 1, 1, 4)\n",
    "elem = 1\n",
    "count = tpl.count(elem)\n",
    "print(count)\n"
   ]
  },
  {
   "cell_type": "code",
   "execution_count": null,
   "metadata": {},
   "outputs": [
    {
     "name": "stdout",
     "output_type": "stream",
     "text": [
      "5 is max element\n"
     ]
    }
   ],
   "source": [
    "tpl = (1, 2, 3, 4, 5)\n",
    "mx = max(tpl)\n",
    "print(mx)\n"
   ]
  },
  {
   "cell_type": "code",
   "execution_count": null,
   "metadata": {},
   "outputs": [],
   "source": [
    "tpl = (1, 2, 3, 4, 5)\n",
    "mn = min(tpl)\n",
    "print(mn)\n"
   ]
  },
  {
   "cell_type": "code",
   "execution_count": null,
   "metadata": {},
   "outputs": [
    {
     "name": "stdout",
     "output_type": "stream",
     "text": [
      "True is element check result\n"
     ]
    }
   ],
   "source": [
    "tpl = (1, 2, 3, 4, 5)\n",
    "elem = 3\n",
    "exists = elem in tpl\n",
    "print(exists)\n"
   ]
  },
  {
   "cell_type": "code",
   "execution_count": null,
   "metadata": {},
   "outputs": [
    {
     "name": "stdout",
     "output_type": "stream",
     "text": [
      "1 is first element\n"
     ]
    }
   ],
   "source": [
    "tpl = (1, 2, 3)\n",
    "first = tpl[0] if tpl else None\n",
    "print(first)\n"
   ]
  },
  {
   "cell_type": "code",
   "execution_count": null,
   "metadata": {},
   "outputs": [
    {
     "name": "stdout",
     "output_type": "stream",
     "text": [
      "3 is last element\n"
     ]
    }
   ],
   "source": [
    "tpl = (1, 2, 3)\n",
    "last = tpl[-1] if tpl else None\n",
    "print(last)\n"
   ]
  },
  {
   "cell_type": "code",
   "execution_count": null,
   "metadata": {},
   "outputs": [
    {
     "name": "stdout",
     "output_type": "stream",
     "text": [
      "4 is tuple length\n"
     ]
    }
   ],
   "source": [
    "tpl = (1, 2, 3, 4)\n",
    "length = len(tpl)\n",
    "print(length)\n"
   ]
  },
  {
   "cell_type": "code",
   "execution_count": 6,
   "metadata": {},
   "outputs": [
    {
     "name": "stdout",
     "output_type": "stream",
     "text": [
      "(1, 2, 3)\n"
     ]
    }
   ],
   "source": [
    "tpl = (1, 2, 3, 4, 5)\n",
    "sliced = tpl[:3]\n",
    "print(sliced)\n"
   ]
  },
  {
   "cell_type": "code",
   "execution_count": 7,
   "metadata": {},
   "outputs": [
    {
     "name": "stdout",
     "output_type": "stream",
     "text": [
      "(1, 2, 3, 4, 5, 6)\n"
     ]
    }
   ],
   "source": [
    "tpl1 = (1, 2, 3)\n",
    "tpl2 = (4, 5, 6)\n",
    "concat = tpl1 + tpl2\n",
    "print(concat)\n"
   ]
  },
  {
   "cell_type": "code",
   "execution_count": null,
   "metadata": {},
   "outputs": [
    {
     "name": "stdout",
     "output_type": "stream",
     "text": [
      "0 is index of 1\n",
      "1 is index of 2\n",
      "2 is index of 3\n",
      "0 is index of 1\n",
      "4 is index of 4\n",
      "0 is index of 1\n"
     ]
    }
   ],
   "source": [
    "tpl = (1, 2, 3, 1, 4, 1)\n",
    "elem = 1\n",
    "for i in tpl:\n",
    "    print(tpl.index(i), \"is index of\", i)\n"
   ]
  },
  {
   "cell_type": "code",
   "execution_count": null,
   "metadata": {},
   "outputs": [
    {
     "name": "stdout",
     "output_type": "stream",
     "text": [
      "4\n"
     ]
    }
   ],
   "source": [
    "tpl = (1, 2, 3, 4, 5)\n",
    "second = sorted(set(tpl))[-2]\n",
    "print(second)\n"
   ]
  },
  {
   "cell_type": "code",
   "execution_count": 12,
   "metadata": {},
   "outputs": [
    {
     "name": "stdout",
     "output_type": "stream",
     "text": [
      "2\n"
     ]
    }
   ],
   "source": [
    "tpl = (1, 2, 3, 4, 5)\n",
    "ssm = sorted(set(tpl))[1]\n",
    "print(ssm)\n"
   ]
  },
  {
   "cell_type": "code",
   "execution_count": 13,
   "metadata": {},
   "outputs": [
    {
     "name": "stdout",
     "output_type": "stream",
     "text": [
      "(42,)\n"
     ]
    }
   ],
   "source": [
    "ele = 42\n",
    "tpl = (ele,)\n",
    "print(tpl)\n"
   ]
  },
  {
   "cell_type": "code",
   "execution_count": 14,
   "metadata": {},
   "outputs": [
    {
     "name": "stdout",
     "output_type": "stream",
     "text": [
      "(1, 2, 3, 4)\n"
     ]
    }
   ],
   "source": [
    "lst = [1, 2, 3, 4]\n",
    "tpl = tuple(lst)\n",
    "print(tpl)\n"
   ]
  },
  {
   "cell_type": "code",
   "execution_count": 15,
   "metadata": {},
   "outputs": [
    {
     "name": "stdout",
     "output_type": "stream",
     "text": [
      "4\n"
     ]
    }
   ],
   "source": [
    "tpl = (1, 2, 3, 4, 5)\n",
    "sub = tpl[1:4]\n",
    "mx = max(sub)\n",
    "print(mx)\n"
   ]
  },
  {
   "cell_type": "code",
   "execution_count": 16,
   "metadata": {},
   "outputs": [
    {
     "name": "stdout",
     "output_type": "stream",
     "text": [
      "2\n"
     ]
    }
   ],
   "source": [
    "tpl = (1, 2, 3, 4, 5)\n",
    "sub = tpl[1:4]\n",
    "mn = min(sub)\n",
    "print(mn)\n"
   ]
  },
  {
   "cell_type": "code",
   "execution_count": 17,
   "metadata": {},
   "outputs": [
    {
     "name": "stdout",
     "output_type": "stream",
     "text": [
      "(1, 2, 4, 5)\n"
     ]
    }
   ],
   "source": [
    "tpl = (1, 2, 3, 4, 5)\n",
    "ele = 3\n",
    "new = tuple(x for x in tpl if x != ele)\n",
    "print(new)\n"
   ]
  },
  {
   "cell_type": "code",
   "execution_count": null,
   "metadata": {},
   "outputs": [
    {
     "name": "stdout",
     "output_type": "stream",
     "text": [
      "((1, 2), (3, 4))\n"
     ]
    }
   ],
   "source": [
    "tup=(2, 3, 5, 2, 5, 8, 5)\n",
    "lst1=list()\n",
    "lst1.append(tuple(tup[0:3]))\n",
    "lst1.append(tuple(tup[3:5]))\n",
    "lst1.append(tuple(tup[2:6]),)\n",
    "tup1=tuple(lst1)\n",
    "print(tup1)\n"
   ]
  },
  {
   "cell_type": "code",
   "execution_count": null,
   "metadata": {},
   "outputs": [
    {
     "name": "stdout",
     "output_type": "stream",
     "text": [
      "(1, 1, 2, 2, 3, 3)\n"
     ]
    }
   ],
   "source": [
    "tup=(2, 3, 5, 2, 5, 8, 5)\n",
    "n=3\n",
    "tup1=tuple(tup*n)\n",
    "print(tup1)\n"
   ]
  },
  {
   "cell_type": "code",
   "execution_count": 20,
   "metadata": {},
   "outputs": [
    {
     "name": "stdout",
     "output_type": "stream",
     "text": [
      "(1, 2, 3, 4, 5, 6, 7, 8, 9, 10)\n"
     ]
    }
   ],
   "source": [
    "tup=tuple(range(1, 11))\n",
    "print(tup)\n"
   ]
  },
  {
   "cell_type": "code",
   "execution_count": 21,
   "metadata": {},
   "outputs": [
    {
     "name": "stdout",
     "output_type": "stream",
     "text": [
      "(5, 8, 5, 2, 5, 3, 2)\n"
     ]
    }
   ],
   "source": [
    "tup=(2, 3, 5, 2, 5, 8, 5)\n",
    "lst1=list()\n",
    "for i in tup:\n",
    "    lst1.append(i)\n",
    "lst1.reverse()\n",
    "tup1=tuple(lst1)\n",
    "print(tup1)\n"
   ]
  },
  {
   "cell_type": "code",
   "execution_count": 22,
   "metadata": {},
   "outputs": [
    {
     "name": "stdout",
     "output_type": "stream",
     "text": [
      "it is not palindrome\n"
     ]
    }
   ],
   "source": [
    "tup=[0, -1, 2, 3, -4, 5, 6, 7, -8, 9]\n",
    "lst=list(tup)\n",
    "\n",
    "l=len(lst)\n",
    "i=0\n",
    "while l>0:\n",
    "    if lst[l-1]!=lst[i]:\n",
    "        print('it is not palindrome')\n",
    "        break\n",
    "    elif l==1:\n",
    "        print(\"List is palindrome\")\n",
    "        break\n",
    "    else:\n",
    "        l=l-1\n",
    "        i=i+1\n",
    "\n",
    "\n"
   ]
  },
  {
   "cell_type": "code",
   "execution_count": null,
   "metadata": {},
   "outputs": [],
   "source": []
  },
  {
   "cell_type": "code",
   "execution_count": null,
   "metadata": {},
   "outputs": [],
   "source": []
  }
 ],
 "metadata": {
  "kernelspec": {
   "display_name": "Python 3",
   "language": "python",
   "name": "python3"
  },
  "language_info": {
   "codemirror_mode": {
    "name": "ipython",
    "version": 3
   },
   "file_extension": ".py",
   "mimetype": "text/x-python",
   "name": "python",
   "nbconvert_exporter": "python",
   "pygments_lexer": "ipython3",
   "version": "3.12.8"
  }
 },
 "nbformat": 4,
 "nbformat_minor": 2
}
