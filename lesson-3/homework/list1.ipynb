{
 "cells": [
  {
   "cell_type": "code",
   "execution_count": null,
   "metadata": {},
   "outputs": [],
   "source": [
    "lst=[1, 2, 1, 4, 4, 5]\n",
    "lst.count(4)\n"
   ]
  },
  {
   "cell_type": "code",
   "execution_count": null,
   "metadata": {},
   "outputs": [],
   "source": [
    "lst=[1, 2, 1, 4, 4, 5]\n",
    "sum(lst)\n"
   ]
  },
  {
   "cell_type": "code",
   "execution_count": null,
   "metadata": {},
   "outputs": [],
   "source": [
    "lst=[1, 2, 1, 4, 4, 5]\n",
    "max(lst)\n"
   ]
  },
  {
   "cell_type": "code",
   "execution_count": null,
   "metadata": {},
   "outputs": [],
   "source": [
    "lst=[1, 2, 1, 4, 4, 5]\n",
    "min(lst)\n"
   ]
  },
  {
   "cell_type": "code",
   "execution_count": null,
   "metadata": {},
   "outputs": [],
   "source": [
    "lst=[1, 2, 1, 4, 4, 5]\n",
    "if lst.count(7)>0:\n",
    "    print('It exists')\n",
    "else:\n",
    "    print('It does not exist')\n"
   ]
  },
  {
   "cell_type": "code",
   "execution_count": null,
   "metadata": {},
   "outputs": [
    {
     "name": "stdout",
     "output_type": "stream",
     "text": [
      "2\n"
     ]
    }
   ],
   "source": [
    "lst=[1, 2, 1, 4, 4, 5]\n",
    "if lst: \n",
    "    print(lst[0])\n",
    "else:\n",
    "    print(\"the list is empty\")\n"
   ]
  },
  {
   "cell_type": "code",
   "execution_count": null,
   "metadata": {},
   "outputs": [
    {
     "name": "stdout",
     "output_type": "stream",
     "text": [
      "5\n"
     ]
    }
   ],
   "source": [
    "lst=[1, 2, 1, 4, 4, 5]\n",
    "if lst: \n",
    "    print(lst[-1])\n",
    "else:\n",
    "    print(\"the list is empty\")\n"
   ]
  },
  {
   "cell_type": "code",
   "execution_count": null,
   "metadata": {},
   "outputs": [
    {
     "data": {
      "text/plain": [
       "[1, 2, 4]"
      ]
     },
     "execution_count": 10,
     "metadata": {},
     "output_type": "execute_result"
    }
   ],
   "source": [
    "lst=[1, 2, 4, 4, 5]\n",
    "lst1=lst[0:3]\n",
    "lst1\n"
   ]
  },
  {
   "cell_type": "code",
   "execution_count": null,
   "metadata": {},
   "outputs": [
    {
     "name": "stdout",
     "output_type": "stream",
     "text": [
      "None\n"
     ]
    }
   ],
   "source": [
    "lst=[1, 2, 4, 4, 5]\n",
    "lst2=lst.reverse()\n",
    "print(lst2)\n"
   ]
  },
  {
   "cell_type": "code",
   "execution_count": 25,
   "metadata": {},
   "outputs": [
    {
     "name": "stdout",
     "output_type": "stream",
     "text": [
      "[1, 2, 3, 4, 5, 6]\n"
     ]
    }
   ],
   "source": [
    "lst = [1, 3, 2, 4 ,6, 5]\n",
    "\n",
    "lst.sort()\n",
    "\n",
    "print(lst)\n"
   ]
  },
  {
   "cell_type": "code",
   "execution_count": null,
   "metadata": {},
   "outputs": [
    {
     "name": "stdout",
     "output_type": "stream",
     "text": [
      "[1, 2, 3, 4, 5, 6]\n"
     ]
    }
   ],
   "source": [
    "lst = [1, 3, 2, 4 ,6, 5]\n",
    "lst1=list(set(lst))\n",
    "print(lst1)\n"
   ]
  },
  {
   "cell_type": "code",
   "execution_count": null,
   "metadata": {},
   "outputs": [
    {
     "name": "stdout",
     "output_type": "stream",
     "text": [
      "[1, 3, 2, 4, 4, 6, 5]\n"
     ]
    }
   ],
   "source": [
    "lst = [1, 3, 2, 4 ,6, 5]\n",
    "lst.insert(3, 4)\n",
    "print(lst)\n"
   ]
  },
  {
   "cell_type": "code",
   "execution_count": null,
   "metadata": {},
   "outputs": [
    {
     "data": {
      "text/plain": [
       "3"
      ]
     },
     "execution_count": 30,
     "metadata": {},
     "output_type": "execute_result"
    }
   ],
   "source": [
    "lst = [1, 3, 2, 4 ,6, 5]\n",
    "lst.index(4)\n"
   ]
  },
  {
   "cell_type": "code",
   "execution_count": null,
   "metadata": {},
   "outputs": [],
   "source": [
    "if lst==False:\n",
    "    print(\"List is empty\")\n",
    "else:\n",
    "    print('The list is not empty')\n"
   ]
  },
  {
   "cell_type": "code",
   "execution_count": null,
   "metadata": {},
   "outputs": [
    {
     "name": "stdout",
     "output_type": "stream",
     "text": [
      "There are 3 even numbers\n"
     ]
    }
   ],
   "source": [
    "even=0\n",
    "for i in lst:\n",
    "    if i%2==0:\n",
    "        even=even+1\n",
    "print(\"There are\", even, \"even numbers\")\n"
   ]
  },
  {
   "cell_type": "code",
   "execution_count": null,
   "metadata": {},
   "outputs": [
    {
     "name": "stdout",
     "output_type": "stream",
     "text": [
      "There are 3 odd numbers\n"
     ]
    }
   ],
   "source": [
    "odd=0\n",
    "for i in lst:\n",
    "    if i%2==1:\n",
    "        odd=odd+1\n",
    "print(\"There are\", odd, \"odd numbers\")\n"
   ]
  },
  {
   "cell_type": "code",
   "execution_count": null,
   "metadata": {},
   "outputs": [
    {
     "data": {
      "text/plain": [
       "[1, 3, 2, 4, 6, 5, 3, 5, 4, 7, 8]"
      ]
     },
     "execution_count": 38,
     "metadata": {},
     "output_type": "execute_result"
    }
   ],
   "source": [
    "lst = [1, 3, 2, 4 ,6, 5]\n",
    "lst1= [3, 5, 4, 7, 8]\n",
    "lstcomb=lst.copy()\n",
    "lstcomb.extend(lst1)\n",
    "lstcomb\n"
   ]
  },
  {
   "cell_type": "code",
   "execution_count": null,
   "metadata": {},
   "outputs": [
    {
     "name": "stdout",
     "output_type": "stream",
     "text": [
      "[1, 3, 2, 4, 6, 5]\n",
      "[1, 3, 2, 4, 6, 5, 54, 3, 9]\n",
      "lst is subset of lstcomb\n"
     ]
    }
   ],
   "source": [
    "lst = [1, 3, 2, 4 ,6, 5]\n",
    "lstcomb=[1, 3, 2, 4 ,6, 5, 54, 3, 9]\n",
    "\n",
    "for i in lst:\n",
    "    if i not in lstcomb:\n",
    "        print('lst is not subset of lstcomb')\n",
    "        break\n",
    "print('lst is subset of lstcomb')\n"
   ]
  },
  {
   "cell_type": "code",
   "execution_count": null,
   "metadata": {},
   "outputs": [],
   "source": [
    "lst = [1, 3, 2, 4 ,6, 5]\n",
    "i=lst.index(3)\n",
    "lst.remove(3)\n",
    "lst.insert(5, i)\n"
   ]
  },
  {
   "cell_type": "code",
   "execution_count": null,
   "metadata": {},
   "outputs": [
    {
     "name": "stdout",
     "output_type": "stream",
     "text": [
      "5\n"
     ]
    }
   ],
   "source": [
    "lst = [1, 3, 2, 4 ,6, 5]\n",
    "i=max(lst)\n",
    "lst.remove(i)\n",
    "print(max(lst))\n",
    "lst.append(i)\n"
   ]
  },
  {
   "cell_type": "code",
   "execution_count": null,
   "metadata": {},
   "outputs": [
    {
     "name": "stdout",
     "output_type": "stream",
     "text": [
      "2\n"
     ]
    }
   ],
   "source": [
    "lst = [1, 3, 2, 4 ,6, 5]\n",
    "i=min(lst)\n",
    "lst.remove(i)\n",
    "print(min(lst))\n",
    "lst.append(i)\n"
   ]
  },
  {
   "cell_type": "code",
   "execution_count": null,
   "metadata": {},
   "outputs": [
    {
     "name": "stdout",
     "output_type": "stream",
     "text": [
      "6\n"
     ]
    }
   ],
   "source": [
    "print(len(lst))\n"
   ]
  },
  {
   "cell_type": "code",
   "execution_count": null,
   "metadata": {},
   "outputs": [
    {
     "name": "stdout",
     "output_type": "stream",
     "text": [
      "[1, 3, 2, 4, 6, 5]\n"
     ]
    }
   ],
   "source": [
    "lst = [1, 3, 2, 4 ,6, 5]\n",
    "lst1=lst.copy()\n",
    "print(lst1)\n"
   ]
  },
  {
   "cell_type": "code",
   "execution_count": null,
   "metadata": {},
   "outputs": [
    {
     "name": "stdout",
     "output_type": "stream",
     "text": [
      "[1, 2, 3, 5, 6, 7]\n",
      "[3, 5]\n"
     ]
    }
   ],
   "source": [
    "lst = [1, 3, 2, 7 ,6, 5]\n",
    "lst.sort()\n",
    "i=int(len(lst))\n",
    "print(lst)\n",
    "if i%2==0:\n",
    "    f=int(i/2)\n",
    "    print(lst[f-1:f+1])\n",
    "else:\n",
    "    f=int((i-1)/2)\n",
    "    print(lst[f])\n"
   ]
  },
  {
   "cell_type": "code",
   "execution_count": null,
   "metadata": {},
   "outputs": [
    {
     "name": "stdout",
     "output_type": "stream",
     "text": [
      "4\n"
     ]
    }
   ],
   "source": [
    "lst = [1, 3, 2, 4 ,6, 5]\n",
    "print(max(lst[0:4]))\n"
   ]
  },
  {
   "cell_type": "code",
   "execution_count": null,
   "metadata": {},
   "outputs": [
    {
     "name": "stdout",
     "output_type": "stream",
     "text": [
      "4\n"
     ]
    }
   ],
   "source": [
    "lst = [1, 3, 2, 4,6, 5]\n",
    "print(min(lst[3:]))\n"
   ]
  },
  {
   "cell_type": "code",
   "execution_count": 55,
   "metadata": {},
   "outputs": [
    {
     "name": "stdout",
     "output_type": "stream",
     "text": [
      "[1, 2, 4, 6, 5]\n"
     ]
    }
   ],
   "source": [
    "lst = [1, 3, 2, 4,6, 5]\n",
    "lst.pop(1)\n",
    "print(lst)\n"
   ]
  },
  {
   "cell_type": "code",
   "execution_count": null,
   "metadata": {},
   "outputs": [
    {
     "name": "stdout",
     "output_type": "stream",
     "text": [
      "no\n"
     ]
    }
   ],
   "source": [
    "if lst==lst.sort():\n",
    "    print(\"Yes\")\n",
    "else:\n",
    "    print('No')\n"
   ]
  },
  {
   "cell_type": "code",
   "execution_count": 76,
   "metadata": {},
   "outputs": [
    {
     "name": "stdout",
     "output_type": "stream",
     "text": [
      "[1, 3, 2, 4, 6, 5, 1, 3, 2, 4, 6, 5]\n"
     ]
    }
   ],
   "source": [
    "i=2\n",
    "lst = [1, 3, 2, 4,6, 5]\n",
    "lst4=[1]\n",
    "i=2\n",
    "while i>0:\n",
    "    lst4.extend(lst)\n",
    "    i-=1\n",
    "lst4.remove(1)\n",
    "print(lst4)\n"
   ]
  },
  {
   "cell_type": "code",
   "execution_count": null,
   "metadata": {},
   "outputs": [
    {
     "name": "stdout",
     "output_type": "stream",
     "text": [
      "[1, 1, 1, 2, 2, 2, 3, 3, 3, 4, 4, 4, 5, 5, 5, 6, 6, 6]\n"
     ]
    }
   ],
   "source": [
    "from copy import deepcopy\n",
    "lst = [1, 3, 2, 4,6, 5]\n",
    "lst1= [1, 3, 2, 4, 6, 5, 1, 3, 2, 4, 6, 5]\n",
    "lst2= deepcopy(lst1)\n",
    "lst2.extend(lst)\n",
    "lst2.sort()\n",
    "print(lst2)\n"
   ]
  },
  {
   "cell_type": "code",
   "execution_count": 92,
   "metadata": {},
   "outputs": [
    {
     "name": "stdout",
     "output_type": "stream",
     "text": [
      "3\n",
      "9\n"
     ]
    }
   ],
   "source": [
    "lst=[1, 3, 2, 4, 6, 5, 1, 3, 2, 4, 6, 5]\n",
    "l=len(lst)\n",
    "i=1\n",
    "while l>0:\n",
    "    try:\n",
    "        print(lst.index(4,i))\n",
    "        l-=1\n",
    "        i+=lst.index(4,i)\n",
    "    except ValueError:\n",
    "        break\n"
   ]
  },
  {
   "cell_type": "code",
   "execution_count": null,
   "metadata": {},
   "outputs": [
    {
     "name": "stdout",
     "output_type": "stream",
     "text": [
      "[5, 1, 3, 2, 4, 6, 5, 1, 3, 2, 4, 6]\n"
     ]
    }
   ],
   "source": [
    "lst=[1, 3, 2, 4, 6, 5, 1, 3, 2, 4, 6, 5]\n",
    "lst.insert(0, lst[-1])\n",
    "lst.pop()\n",
    "print(lst)\n"
   ]
  },
  {
   "cell_type": "code",
   "execution_count": null,
   "metadata": {},
   "outputs": [
    {
     "name": "stdout",
     "output_type": "stream",
     "text": [
      "[0, 1, 2, 3, 4, 5, 6, 7, 8, 9]\n"
     ]
    }
   ],
   "source": [
    "i=0\n",
    "lst=list()\n",
    "while i<10:\n",
    "    lst.append(i)\n",
    "    i=i+1\n",
    "print(lst)\n",
    "\n"
   ]
  },
  {
   "cell_type": "code",
   "execution_count": null,
   "metadata": {},
   "outputs": [
    {
     "name": "stdout",
     "output_type": "stream",
     "text": [
      "32\n"
     ]
    }
   ],
   "source": [
    "lst=[0, -1, 2, 3, -4, 5, 6, 7, -8, 9]\n",
    "sum=0\n",
    "for i in lst:\n",
    "    if i>0:\n",
    "        sum=sum+i\n",
    "print(sum)\n"
   ]
  },
  {
   "cell_type": "code",
   "execution_count": null,
   "metadata": {},
   "outputs": [
    {
     "name": "stdout",
     "output_type": "stream",
     "text": [
      "-13\n"
     ]
    }
   ],
   "source": [
    "lst=[0, -1, 2, 3, -4, 5, 6, 7, -8, 9]\n",
    "sum=0\n",
    "for i in lst:\n",
    "    if i<0:\n",
    "        sum=sum+i\n",
    "print(sum)\n"
   ]
  },
  {
   "cell_type": "code",
   "execution_count": null,
   "metadata": {},
   "outputs": [
    {
     "name": "stdout",
     "output_type": "stream",
     "text": [
      "it is palindrome\n"
     ]
    }
   ],
   "source": [
    "lst=[0, -1, 2, 3, -4, 5, 6, 7, -8, 9]\n",
    "l=len(lst)\n",
    "i=0\n",
    "while l>0:\n",
    "    if lst[l-1]!=lst[i]:\n",
    "        print('it is not palindrome')\n",
    "        break\n",
    "    else:\n",
    "        l=l-1\n",
    "        i=i+1\n",
    "print('it is palindrome')\n"
   ]
  },
  {
   "cell_type": "code",
   "execution_count": null,
   "metadata": {},
   "outputs": [],
   "source": []
  }
 ],
 "metadata": {
  "kernelspec": {
   "display_name": "Python 3",
   "language": "python",
   "name": "python3"
  },
  "language_info": {
   "codemirror_mode": {
    "name": "ipython",
    "version": 3
   },
   "file_extension": ".py",
   "mimetype": "text/x-python",
   "name": "python",
   "nbconvert_exporter": "python",
   "pygments_lexer": "ipython3",
   "version": "3.12.8"
  }
 },
 "nbformat": 4,
 "nbformat_minor": 2
}
