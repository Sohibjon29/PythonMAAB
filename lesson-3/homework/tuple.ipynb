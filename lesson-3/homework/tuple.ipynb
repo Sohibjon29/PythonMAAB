{
 "cells": [
  {
   "cell_type": "code",
   "execution_count": 32,
   "metadata": {},
   "outputs": [
    {
     "name": "stdout",
     "output_type": "stream",
     "text": [
      "((2, 3, 5), (2, 5), (5, 2, 5, 8))\n"
     ]
    }
   ],
   "source": [
    "#Problem 20\n",
    "tup=(2, 3, 5, 2, 5, 8, 5)\n",
    "lst1=list()\n",
    "lst1.append(tuple(tup[0:3]))\n",
    "lst1.append(tuple(tup[3:5]))\n",
    "lst1.append(tuple(tup[2:6]),)\n",
    "tup1=tuple(lst1)\n",
    "print(tup1)\n",
    "\n"
   ]
  },
  {
   "cell_type": "code",
   "execution_count": 29,
   "metadata": {},
   "outputs": [
    {
     "name": "stdout",
     "output_type": "stream",
     "text": [
      "(2, 3, 5, 2, 5, 8, 5, 2, 3, 5, 2, 5, 8, 5, 2, 3, 5, 2, 5, 8, 5)\n"
     ]
    }
   ],
   "source": [
    "tup=(2, 3, 5, 2, 5, 8, 5)\n",
    "n=3\n",
    "tup1=tuple(tup*n)\n",
    "print(tup1)\n"
   ]
  },
  {
   "cell_type": "code",
   "execution_count": null,
   "metadata": {},
   "outputs": [
    {
     "name": "stdout",
     "output_type": "stream",
     "text": [
      "(1, 2, 3, 4, 5, 6, 7, 8, 9, 10)\n"
     ]
    }
   ],
   "source": [
    "tup=tuple(range(1, 11))\n",
    "print(tup)\n"
   ]
  },
  {
   "cell_type": "code",
   "execution_count": 18,
   "metadata": {},
   "outputs": [
    {
     "name": "stdout",
     "output_type": "stream",
     "text": [
      "(5, 8, 5, 2, 5, 3, 2)\n"
     ]
    }
   ],
   "source": [
    "tup=(2, 3, 5, 2, 5, 8, 5)\n",
    "lst1=list()\n",
    "for i in tup:\n",
    "    lst1.append(i)\n",
    "lst1.reverse()\n",
    "tup1=tuple(lst1)\n",
    "print(tup1)\n"
   ]
  },
  {
   "cell_type": "code",
   "execution_count": 20,
   "metadata": {},
   "outputs": [
    {
     "name": "stdout",
     "output_type": "stream",
     "text": [
      "it is not palindrome\n"
     ]
    }
   ],
   "source": [
    "tup=[0, -1, 2, 3, -4, 5, 6, 7, -8, 9]\n",
    "lst=list(tup)\n",
    "\n",
    "l=len(lst)\n",
    "i=0\n",
    "while l>0:\n",
    "    if lst[l-1]!=lst[i]:\n",
    "        print('it is not palindrome')\n",
    "        break\n",
    "    elif l==1:\n",
    "        print(\"List is palindrome\")\n",
    "        break\n",
    "    else:\n",
    "        l=l-1\n",
    "        i=i+1\n",
    "\n",
    "\n"
   ]
  },
  {
   "cell_type": "code",
   "execution_count": null,
   "metadata": {},
   "outputs": [],
   "source": []
  }
 ],
 "metadata": {
  "kernelspec": {
   "display_name": "Python 3",
   "language": "python",
   "name": "python3"
  },
  "language_info": {
   "codemirror_mode": {
    "name": "ipython",
    "version": 3
   },
   "file_extension": ".py",
   "mimetype": "text/x-python",
   "name": "python",
   "nbconvert_exporter": "python",
   "pygments_lexer": "ipython3",
   "version": "3.12.8"
  }
 },
 "nbformat": 4,
 "nbformat_minor": 2
}
