{
 "cells": [
  {
   "cell_type": "code",
   "execution_count": 27,
   "metadata": {},
   "outputs": [
    {
     "name": "stdout",
     "output_type": "stream",
     "text": [
      "Union: {1, 2, 3, 4, 5}\n"
     ]
    }
   ],
   "source": [
    "st1 = {1, 2, 3}\n",
    "st2 = {3, 4, 5}\n",
    "union = st1 | st2\n",
    "print(\"Union:\", union)\n"
   ]
  },
  {
   "cell_type": "code",
   "execution_count": 28,
   "metadata": {},
   "outputs": [
    {
     "name": "stdout",
     "output_type": "stream",
     "text": [
      "Intersection: {3}\n"
     ]
    }
   ],
   "source": [
    "st1 = {1, 2, 3}\n",
    "st2 = {3, 4, 5}\n",
    "intersect = st1 & st2\n",
    "print(\"Intersection:\", intersect)\n"
   ]
  },
  {
   "cell_type": "code",
   "execution_count": null,
   "metadata": {},
   "outputs": [],
   "source": [
    "st1 = {1, 2, 3}\n",
    "st2 = {3, 4, 5}\n",
    "union = st1 | st2\n",
    "print(\"Union:\", union)\n"
   ]
  },
  {
   "cell_type": "code",
   "execution_count": null,
   "metadata": {},
   "outputs": [],
   "source": [
    "st1 = {1, 2}\n",
    "st2 = {1, 2, 3}\n",
    "subset = st1 <= st2\n",
    "print(\"Is Subset:\", subset)\n"
   ]
  },
  {
   "cell_type": "code",
   "execution_count": null,
   "metadata": {},
   "outputs": [
    {
     "name": "stdout",
     "output_type": "stream",
     "text": [
      "Yes\n"
     ]
    }
   ],
   "source": [
    "st = {1, 2, 3}\n",
    "elem = 2\n",
    "if elem in st:\n",
    "    print(\"Yes\")\n",
    "else:\n",
    "    print(\"No\")\n"
   ]
  },
  {
   "cell_type": "code",
   "execution_count": 33,
   "metadata": {},
   "outputs": [
    {
     "name": "stdout",
     "output_type": "stream",
     "text": [
      "Length is 4\n"
     ]
    }
   ],
   "source": [
    "st = {1, 2, 3, 4}\n",
    "print(\"Length is\", len(st))\n"
   ]
  },
  {
   "cell_type": "code",
   "execution_count": null,
   "metadata": {},
   "outputs": [],
   "source": [
    "lst = [1, 2, 2, 3, 4, 4]\n",
    "st = set(lst)\n",
    "print(\"To Set:\", st)\n"
   ]
  },
  {
   "cell_type": "code",
   "execution_count": null,
   "metadata": {},
   "outputs": [
    {
     "name": "stdout",
     "output_type": "stream",
     "text": [
      "{1, 3} is removed\n"
     ]
    }
   ],
   "source": [
    "st = {1, 2, 3}\n",
    "elem = 2\n",
    "st.discard(elem)\n",
    "print(st, \"is removed\")\n"
   ]
  },
  {
   "cell_type": "code",
   "execution_count": null,
   "metadata": {},
   "outputs": [],
   "source": [
    "st = {1, 2, 3}\n",
    "st.clear()\n",
    "print(st, \"is cleared\")\n"
   ]
  },
  {
   "cell_type": "code",
   "execution_count": null,
   "metadata": {},
   "outputs": [
    {
     "name": "stdout",
     "output_type": "stream",
     "text": [
      "It is empty\n"
     ]
    }
   ],
   "source": [
    "st = set()\n",
    "empty = len(st) == 0\n",
    "if empty:\n",
    "    print(\"It is empty\")\n",
    "else:\n",
    "    print(\"it is not empty\")\n"
   ]
  },
  {
   "cell_type": "code",
   "execution_count": 37,
   "metadata": {},
   "outputs": [
    {
     "name": "stdout",
     "output_type": "stream",
     "text": [
      "{1, 2, 4, 5} is symmetric difference\n"
     ]
    }
   ],
   "source": [
    "st1 = {1, 2, 3}\n",
    "st2 = {3, 4, 5}\n",
    "symdiff = st1 ^ st2\n",
    "print(symdiff, \"is symmetric difference\")\n"
   ]
  },
  {
   "cell_type": "code",
   "execution_count": null,
   "metadata": {},
   "outputs": [],
   "source": [
    "st = {1, 2, 3}\n",
    "elem = 4\n",
    "st.add(elem)\n",
    "print(st, \"is set after adding element\")\n"
   ]
  },
  {
   "cell_type": "code",
   "execution_count": null,
   "metadata": {},
   "outputs": [],
   "source": [
    "st = {1, 2, 3}\n",
    "popp = st.pop()\n",
    "print(popp, \"is popped element\")\n",
    "print(st, \"is set after pop\")\n"
   ]
  },
  {
   "cell_type": "code",
   "execution_count": null,
   "metadata": {},
   "outputs": [],
   "source": [
    "nums = {1, 2, 3, 4, 5}\n",
    "mx = max(nums)\n",
    "print(mx, \"is maximum\")\n"
   ]
  },
  {
   "cell_type": "code",
   "execution_count": null,
   "metadata": {},
   "outputs": [],
   "source": [
    "nums = {1, 2, 3, 4, 5}\n",
    "mn = min(nums)\n",
    "print(mn, \"is minimum\")\n"
   ]
  },
  {
   "cell_type": "code",
   "execution_count": null,
   "metadata": {},
   "outputs": [],
   "source": [
    "nums = {1, 2, 3, 4, 5}\n",
    "evn = {num for num in nums if num % 2 == 0}\n",
    "print(evn, \"is even numbers set\")\n"
   ]
  },
  {
   "cell_type": "code",
   "execution_count": null,
   "metadata": {},
   "outputs": [],
   "source": [
    "nums = {1, 2, 3, 4, 5}\n",
    "odd = {num for num in nums if num % 2 != 0}\n",
    "print(odd, \"is odd numbers set\")\n"
   ]
  },
  {
   "cell_type": "code",
   "execution_count": null,
   "metadata": {},
   "outputs": [],
   "source": [
    "#Problem 18\n",
    "st1=set(range(-2, 10))\n",
    "print(st1)\n"
   ]
  },
  {
   "cell_type": "code",
   "execution_count": null,
   "metadata": {},
   "outputs": [
    {
     "name": "stdout",
     "output_type": "stream",
     "text": [
      "{1, 2, 3, 4, 5, 7, 8, 9, 10}\n"
     ]
    }
   ],
   "source": [
    "st={1, 4, 3, 8, 3, 5}\n",
    "st1={4, 7, 2, 9, 10}\n",
    "st2=st|st1\n",
    "print(st2)\n"
   ]
  },
  {
   "cell_type": "code",
   "execution_count": null,
   "metadata": {},
   "outputs": [
    {
     "name": "stdout",
     "output_type": "stream",
     "text": [
      "They have common values\n"
     ]
    }
   ],
   "source": [
    "st={1, 4, 3, 8, 3, 5}\n",
    "st1={4, 7, 2, 9, 10}\n",
    "st2=st&st1\n",
    "\n",
    "if bool(st2)==True:\n",
    "    print(\"They have common values\")\n"
   ]
  },
  {
   "cell_type": "code",
   "execution_count": null,
   "metadata": {},
   "outputs": [
    {
     "name": "stdout",
     "output_type": "stream",
     "text": [
      "[2, 5, 7]\n"
     ]
    }
   ],
   "source": [
    "lst1=[2, 5, 2, 7, 2]\n",
    "st=set(lst1)\n",
    "lst1=list(st)\n",
    "print(lst1)\n"
   ]
  },
  {
   "cell_type": "code",
   "execution_count": null,
   "metadata": {},
   "outputs": [
    {
     "name": "stdout",
     "output_type": "stream",
     "text": [
      "3\n"
     ]
    }
   ],
   "source": [
    "lst1=[2, 5, 2, 7, 2]\n",
    "st=set(lst1)\n",
    "lst1=list(st)\n",
    "print(len(lst1))\n"
   ]
  },
  {
   "cell_type": "code",
   "execution_count": null,
   "metadata": {},
   "outputs": [
    {
     "name": "stdout",
     "output_type": "stream",
     "text": [
      "{2, 6, 7, 8, 9}\n"
     ]
    }
   ],
   "source": [
    "import random\n",
    "l=0\n",
    "lst=list()\n",
    "while l<5:\n",
    "    i=random.randrange(0, 10)\n",
    "    if i not in lst:\n",
    "        lst.append(i)\n",
    "        l=l+1\n",
    "\n",
    "\n",
    "st=set(lst)\n",
    "print(st)\n"
   ]
  },
  {
   "cell_type": "code",
   "execution_count": null,
   "metadata": {},
   "outputs": [],
   "source": []
  },
  {
   "cell_type": "code",
   "execution_count": null,
   "metadata": {},
   "outputs": [],
   "source": []
  }
 ],
 "metadata": {
  "kernelspec": {
   "display_name": "Python 3",
   "language": "python",
   "name": "python3"
  },
  "language_info": {
   "codemirror_mode": {
    "name": "ipython",
    "version": 3
   },
   "file_extension": ".py",
   "mimetype": "text/x-python",
   "name": "python",
   "nbconvert_exporter": "python",
   "pygments_lexer": "ipython3",
   "version": "3.12.8"
  }
 },
 "nbformat": 4,
 "nbformat_minor": 2
}
