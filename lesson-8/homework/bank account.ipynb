{
 "cells": [
  {
   "cell_type": "code",
   "execution_count": null,
   "metadata": {},
   "outputs": [],
   "source": [
    "import random\n",
    "import json\n",
    "class Accounts:\n",
    "    def __init__(self, account_number:int, name:str, balance:float):\n",
    "        self.account_number=str(account_number)\n",
    "        self.name=name\n",
    "        self.balance=balance\n",
    "\n",
    "\n",
    "class Bank:\n",
    "    def save_to_file(self):\n",
    "        with open('accounts.json', 'w') as file:\n",
    "            json.dump(self.diction, file)\n",
    "    def load_from_file(self):\n",
    "        with open('accounts.json', 'r') as file:\n",
    "            self.diction=json.load(file)\n",
    "    def __init__(self):\n",
    "        pass\n",
    "    def create_account(self, name:str, initial_deposit:int):\n",
    "        account_number=str(random.randrange(1000, 9999))\n",
    "        account=Accounts(account_number, name, initial_deposit)\n",
    "        self.load_from_file()\n",
    "        self.diction.update({account_number:[name, initial_deposit]})\n",
    "        self.save_to_file()\n",
    "        return f'Your account number is{account}'\n",
    "    def view_account(self, account_number):\n",
    "        self.load_from_file()\n",
    "        try:\n",
    "            return f\"Your account number is {account_number}\\n your name is {self.diction[account_number][0]} \\n you are worth {self.diction[account_number][1]} dollars\"\n",
    "        except KeyError:\n",
    "            return f\"There is no such account\"\n",
    "            \n",
    "    def deposit(self, account_number, amount:int):\n",
    "        self.account_number=account_number\n",
    "        self.amount=amount\n",
    "        self.load_from_file()\n",
    "        try:\n",
    "            self.diction[self.account_number][1]=int(self.diction[self.account_number][1])+self.amount\n",
    "            self.save_to_file()\n",
    "        except KeyError:\n",
    "            return f\"There is no such account\"\n",
    "\n",
    "        \n",
    "    def withdraw(self, account_number, amount):\n",
    "        self.account_number=account_number\n",
    "        self.amount=amount\n",
    "        try:\n",
    "            self.diction[self.account_number][1]=int(self.diction[self.account_number][1])-self.amount\n",
    "            self.save_to_file()\n",
    "        except KeyError:\n",
    "            return f\"There is no such account\"\n",
    "a=Bank()\n"
   ]
  }
 ],
 "metadata": {
  "kernelspec": {
   "display_name": "Python 3",
   "language": "python",
   "name": "python3"
  },
  "language_info": {
   "codemirror_mode": {
    "name": "ipython",
    "version": 3
   },
   "file_extension": ".py",
   "mimetype": "text/x-python",
   "name": "python",
   "nbconvert_exporter": "python",
   "pygments_lexer": "ipython3",
   "version": "3.12.8"
  }
 },
 "nbformat": 4,
 "nbformat_minor": 2
}
