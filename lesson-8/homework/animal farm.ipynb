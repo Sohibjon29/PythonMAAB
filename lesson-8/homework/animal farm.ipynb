{
 "cells": [
  {
   "cell_type": "code",
   "execution_count": 13,
   "metadata": {},
   "outputs": [],
   "source": [
    "class Animal():\n",
    "    def __init__(self, age:int, name: str, herd: str, color: str):\n",
    "        self.age=age\n",
    "        self.name=name\n",
    "    def sleep(self):\n",
    "        print('I am sleeping')\n",
    "class Dog(Animal):\n",
    "    def bark(self):\n",
    "        print('wow, wow, wow')\n",
    "class Cat(Animal):\n",
    "    def meow(self):\n",
    "        print('meow, meow, give me milk')\n",
    "class Monkey(Animal):\n",
    "    def banana(self):\n",
    "        print('Give me banana')\n"
   ]
  },
  {
   "cell_type": "code",
   "execution_count": null,
   "metadata": {},
   "outputs": [],
   "source": []
  }
 ],
 "metadata": {
  "kernelspec": {
   "display_name": "Python 3",
   "language": "python",
   "name": "python3"
  },
  "language_info": {
   "codemirror_mode": {
    "name": "ipython",
    "version": 3
   },
   "file_extension": ".py",
   "mimetype": "text/x-python",
   "name": "python",
   "nbconvert_exporter": "python",
   "pygments_lexer": "ipython3",
   "version": "3.12.8"
  }
 },
 "nbformat": 4,
 "nbformat_minor": 2
}
