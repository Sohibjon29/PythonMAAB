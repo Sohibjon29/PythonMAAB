{
 "cells": [
  {
   "cell_type": "code",
   "execution_count": null,
   "metadata": {},
   "outputs": [
    {
     "name": "stdout",
     "output_type": "stream",
     "text": [
      "53.6\n"
     ]
    }
   ],
   "source": [
    "def convert_cel_to_far(cel):\n",
    "    print(float(cel*1.8+32))\n"
   ]
  },
  {
   "cell_type": "code",
   "execution_count": 7,
   "metadata": {},
   "outputs": [],
   "source": [
    "def convert_far_to_cel(far):\n",
    "    print(float((far-32)/1.8))\n"
   ]
  },
  {
   "cell_type": "code",
   "execution_count": null,
   "metadata": {},
   "outputs": [
    {
     "name": "stdout",
     "output_type": "stream",
     "text": [
      "year 1 : 1050.0\n",
      "year 2 : 1102.5\n",
      "year 3 : 1157.63\n",
      "year 4 : 1215.51\n",
      "year 5 : 1276.28\n",
      "year 6 : 1340.1\n",
      "year 7 : 1407.1\n",
      "year 8 : 1477.46\n",
      "year 9 : 1551.33\n",
      "year 10 : 1628.89\n"
     ]
    }
   ],
   "source": [
    "def invest(amount, rate, years):\n",
    "    for i in range(1, years+1):\n",
    "        print(f\"year {i} : {round(amount*(rate+1)**i, 2)}\")\n",
    "invest(1000, 0.05, 10)\n"
   ]
  },
  {
   "cell_type": "code",
   "execution_count": null,
   "metadata": {},
   "outputs": [
    {
     "name": "stdout",
     "output_type": "stream",
     "text": [
      "[]\n"
     ]
    }
   ],
   "source": [
    "fcs=list()\n",
    "def fctr(num):\n",
    "    num=int(num)\n",
    "    for i in range(num+1, 1):\n",
    "        fcs.append(i)\n",
    "    for i in fcs:\n",
    "        print(i, 'is a factor of', num)\n",
    "\n",
    "\n"
   ]
  },
  {
   "cell_type": "code",
   "execution_count": 49,
   "metadata": {},
   "outputs": [
    {
     "name": "stdout",
     "output_type": "stream",
     "text": [
      "Total students: 77285\n",
      "TOtal tuition: $ 271905\n",
      "\n",
      "Student mean: 11040.71\n",
      "Student median: 10566\n",
      "\n",
      "Tuition mean: $ 38843.57\n",
      "Tuition mean: $ 39849\n"
     ]
    }
   ],
   "source": [
    "from statistics import mean, median\n",
    "def enrollment_stats(lst): \n",
    "\n",
    "    totstu=[i[1] for i in lst]\n",
    "    tottui=[i[2] for i in lst]\n",
    "    print(f'Total students: {sum(totstu)}')\n",
    "    print(f'TOtal tuition: $ {sum(tottui)}\\n')\n",
    "    print(f'Student mean: {round(mean(totstu), 2)}')\n",
    "    print(f'Student median: {median(totstu)}\\n')\n",
    "    print(f'Tuition mean: $ {round(mean(tottui), 2)}')\n",
    "    print(f'Tuition mean: $ {median(tottui)}')\n",
    "universities = [\n",
    "    ['California Institute of Technology', 2175, 37704],\n",
    "    ['Harvard', 19627, 39849],\n",
    "    ['Massachusetts Institute of Technology', 10566, 40732],\n",
    "    ['Princeton', 7802, 37000],\n",
    "    ['Rice', 5879, 35551],\n",
    "    ['Stanford', 19535, 40569],\n",
    "    ['Yale', 11701, 40500]\n",
    "] \n",
    "enrollment_stats(universities)\n",
    "\n",
    "\n",
    "\n",
    "\n"
   ]
  },
  {
   "cell_type": "code",
   "execution_count": 56,
   "metadata": {},
   "outputs": [
    {
     "name": "stdout",
     "output_type": "stream",
     "text": [
      "It is not prime\n"
     ]
    }
   ],
   "source": [
    "def isprime(n):\n",
    "    try:\n",
    "        for i in range(2, n):\n",
    "            if n%i==0:\n",
    "                print('It is not prime')\n",
    "                break\n",
    "            else: \n",
    "                print(\"It is prime\")\n",
    "    except:\n",
    "        if n is not int:\n",
    "            print(\"Please enter integer\")\n",
    "\n",
    "isprime(110)\n"
   ]
  },
  {
   "cell_type": "code",
   "execution_count": null,
   "metadata": {},
   "outputs": [],
   "source": []
  }
 ],
 "metadata": {
  "kernelspec": {
   "display_name": "Python 3",
   "language": "python",
   "name": "python3"
  },
  "language_info": {
   "codemirror_mode": {
    "name": "ipython",
    "version": 3
   },
   "file_extension": ".py",
   "mimetype": "text/x-python",
   "name": "python",
   "nbconvert_exporter": "python",
   "pygments_lexer": "ipython3",
   "version": "3.12.8"
  }
 },
 "nbformat": 4,
 "nbformat_minor": 2
}
