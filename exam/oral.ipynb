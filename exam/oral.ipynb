{
 "cells": [
  {
   "cell_type": "code",
   "execution_count": null,
   "metadata": {},
   "outputs": [
    {
     "name": "stdout",
     "output_type": "stream",
     "text": [
      "True\n",
      "False\n",
      "True\n",
      "False\n"
     ]
    }
   ],
   "source": [
    "def is_prime(num):\n",
    "    i=2\n",
    "    if num<=1:\n",
    "        return False\n",
    "    while i<num:\n",
    "        if num%i==0:\n",
    "            return False\n",
    "        else:\n",
    "            i=i+1\n",
    "    else:\n",
    "        return True\n",
    "print(is_prime(17))\n",
    "print(is_prime(21))\n",
    "print(is_prime(2))\n",
    "print(is_prime(1))\n"
   ]
  },
  {
   "cell_type": "code",
   "execution_count": null,
   "metadata": {},
   "outputs": [
    {
     "name": "stdout",
     "output_type": "stream",
     "text": [
      "0.45056867182317417\n",
      "0.592448067627459\n",
      "0.2933407406179833\n"
     ]
    }
   ],
   "source": [
    "import numpy as np\n",
    "arr=np.random.rand(10)\n",
    "print(arr.mean())\n",
    "print(np.median(arr))\n",
    "print(np.std(arr))\n"
   ]
  },
  {
   "cell_type": "code",
   "execution_count": null,
   "metadata": {},
   "outputs": [],
   "source": [
    "my_list=[None, 1, 2, 3, None, 4, None, None]\n"
   ]
  },
  {
   "cell_type": "code",
   "execution_count": null,
   "metadata": {},
   "outputs": [],
   "source": [
    "def func(lst:list):\n",
    "    i=1\n",
    "    while i<len(lst):\n",
    "        if lst[i]!=None:\n",
    "            val=lst[i]\n",
    "        elif lst[i]==None:\n",
    "            lst[i]=val\n",
    "        i=i+1\n",
    "new_list=func(my_list)\n",
    "print(my_list)\n"
   ]
  },
  {
   "cell_type": "code",
   "execution_count": null,
   "metadata": {},
   "outputs": [],
   "source": [
    "class Date:\n",
    "    def __init__(self, year:int, month:int, day:int):\n",
    "        self.year=year\n",
    "        self.month=month\n",
    "        self.day=day\n",
    "        if self.month>12 or self.month<0:\n",
    "            raise Exception\n",
    "        \n",
    "        if self.month==1:\n",
    "            self.month_name='January'\n",
    "        elif self.month==2:\n",
    "            self.month_name='February'\n",
    "        elif self.month==3:\n",
    "            self.month_name='March'\n",
    "        elif self.month==4:\n",
    "            self.month_name='April'\n",
    "        elif self.month==5:\n",
    "            self.month_name='May'\n",
    "        elif self.month==6:\n",
    "            self.month_name='June'\n",
    "        elif self.month==7:\n",
    "            self.month_name='July'\n",
    "        elif self.month==8:\n",
    "            self.month_name='August'\n",
    "        elif self.month==9:\n",
    "            self.month_name='September'\n",
    "        elif self.month==10:\n",
    "            self.month_name='October'\n",
    "        elif self.month==11:\n",
    "            self.month_name='November'\n",
    "        elif self.month==12:\n",
    "            self.month_name='December'\n",
    "    def simple_date(self):\n",
    "        print(f'{self.month}/{self.day}/{self.year}') \n",
    "    def american_date(self):\n",
    "        print(f'{self.month_name} {self.day}, {self.year}') \n",
    "    def british_date(self):\n",
    "        print(f'{self.day} {self.month_name} {self.year}')     \n",
    "        "
   ]
  },
  {
   "cell_type": "code",
   "execution_count": null,
   "metadata": {},
   "outputs": [
    {
     "ename": "Exception",
     "evalue": "",
     "output_type": "error",
     "traceback": [
      "\u001b[1;31m---------------------------------------------------------------------------\u001b[0m",
      "\u001b[1;31mException\u001b[0m                                 Traceback (most recent call last)",
      "Cell \u001b[1;32mIn[55], line 1\u001b[0m\n\u001b[1;32m----> 1\u001b[0m today\u001b[38;5;241m=\u001b[39m\u001b[43mDate\u001b[49m\u001b[43m(\u001b[49m\u001b[38;5;241;43m2025\u001b[39;49m\u001b[43m,\u001b[49m\u001b[43m \u001b[49m\u001b[38;5;241;43m13\u001b[39;49m\u001b[43m,\u001b[49m\u001b[43m \u001b[49m\u001b[38;5;241;43m6\u001b[39;49m\u001b[43m)\u001b[49m\n\u001b[0;32m      2\u001b[0m today\u001b[38;5;241m.\u001b[39msimple_date()\n\u001b[0;32m      3\u001b[0m today\u001b[38;5;241m.\u001b[39mamerican_date()\n",
      "Cell \u001b[1;32mIn[54], line 7\u001b[0m, in \u001b[0;36mDate.__init__\u001b[1;34m(self, year, month, day)\u001b[0m\n\u001b[0;32m      5\u001b[0m \u001b[38;5;28mself\u001b[39m\u001b[38;5;241m.\u001b[39mday\u001b[38;5;241m=\u001b[39mday\n\u001b[0;32m      6\u001b[0m \u001b[38;5;28;01mif\u001b[39;00m \u001b[38;5;28mself\u001b[39m\u001b[38;5;241m.\u001b[39mmonth\u001b[38;5;241m>\u001b[39m\u001b[38;5;241m12\u001b[39m \u001b[38;5;129;01mor\u001b[39;00m \u001b[38;5;28mself\u001b[39m\u001b[38;5;241m.\u001b[39mmonth\u001b[38;5;241m<\u001b[39m\u001b[38;5;241m0\u001b[39m:\n\u001b[1;32m----> 7\u001b[0m     \u001b[38;5;28;01mraise\u001b[39;00m \u001b[38;5;167;01mException\u001b[39;00m\n\u001b[0;32m      9\u001b[0m \u001b[38;5;28;01mif\u001b[39;00m \u001b[38;5;28mself\u001b[39m\u001b[38;5;241m.\u001b[39mmonth\u001b[38;5;241m==\u001b[39m\u001b[38;5;241m1\u001b[39m:\n\u001b[0;32m     10\u001b[0m     \u001b[38;5;28mself\u001b[39m\u001b[38;5;241m.\u001b[39mmonth_name\u001b[38;5;241m=\u001b[39m\u001b[38;5;124m'\u001b[39m\u001b[38;5;124mJanuary\u001b[39m\u001b[38;5;124m'\u001b[39m\n",
      "\u001b[1;31mException\u001b[0m: "
     ]
    }
   ],
   "source": [
    "today=Date(2025, 13, 6)\n",
    "today.simple_date()\n",
    "today.american_date()\n",
    "today.british_date()\n"
   ]
  },
  {
   "cell_type": "code",
   "execution_count": null,
   "metadata": {},
   "outputs": [],
   "source": [
    "import pandas as pd\n",
    "df=pd.read_csv('TestMax.csv')\n"
   ]
  },
  {
   "cell_type": "code",
   "execution_count": null,
   "metadata": {},
   "outputs": [],
   "source": [
    "df['abs_max']=df[['Max1', 'Max2', 'Max3']].max(axis=1)\n"
   ]
  },
  {
   "cell_type": "code",
   "execution_count": null,
   "metadata": {},
   "outputs": [
    {
     "data": {
      "text/html": [
       "<div>\n",
       "<style scoped>\n",
       "    .dataframe tbody tr th:only-of-type {\n",
       "        vertical-align: middle;\n",
       "    }\n",
       "\n",
       "    .dataframe tbody tr th {\n",
       "        vertical-align: top;\n",
       "    }\n",
       "\n",
       "    .dataframe thead th {\n",
       "        text-align: right;\n",
       "    }\n",
       "</style>\n",
       "<table border=\"1\" class=\"dataframe\">\n",
       "  <thead>\n",
       "    <tr style=\"text-align: right;\">\n",
       "      <th></th>\n",
       "      <th>Year1</th>\n",
       "      <th>abs_max</th>\n",
       "    </tr>\n",
       "  </thead>\n",
       "  <tbody>\n",
       "    <tr>\n",
       "      <th>0</th>\n",
       "      <td>2001</td>\n",
       "      <td>101</td>\n",
       "    </tr>\n",
       "    <tr>\n",
       "      <th>1</th>\n",
       "      <td>2003</td>\n",
       "      <td>103</td>\n",
       "    </tr>\n",
       "    <tr>\n",
       "      <th>2</th>\n",
       "      <td>2003</td>\n",
       "      <td>89</td>\n",
       "    </tr>\n",
       "    <tr>\n",
       "      <th>3</th>\n",
       "      <td>2004</td>\n",
       "      <td>91</td>\n",
       "    </tr>\n",
       "  </tbody>\n",
       "</table>\n",
       "</div>"
      ],
      "text/plain": [
       "   Year1  abs_max\n",
       "0   2001      101\n",
       "1   2003      103\n",
       "2   2003       89\n",
       "3   2004       91"
      ]
     },
     "execution_count": 73,
     "metadata": {},
     "output_type": "execute_result"
    }
   ],
   "source": [
    "df[['Year1', 'abs_max']]\n"
   ]
  },
  {
   "cell_type": "code",
   "execution_count": null,
   "metadata": {},
   "outputs": [],
   "source": []
  }
 ],
 "metadata": {
  "kernelspec": {
   "display_name": "Python 3",
   "language": "python",
   "name": "python3"
  },
  "language_info": {
   "codemirror_mode": {
    "name": "ipython",
    "version": 3
   },
   "file_extension": ".py",
   "mimetype": "text/x-python",
   "name": "python",
   "nbconvert_exporter": "python",
   "pygments_lexer": "ipython3",
   "version": "3.12.8"
  }
 },
 "nbformat": 4,
 "nbformat_minor": 2
}
