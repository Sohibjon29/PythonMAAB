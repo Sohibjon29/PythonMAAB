{
 "cells": [
  {
   "cell_type": "code",
   "execution_count": 54,
   "metadata": {},
   "outputs": [
    {
     "name": "stdout",
     "output_type": "stream",
     "text": [
      "Denominator can't be zero\n"
     ]
    }
   ],
   "source": [
    "def check(func):\n",
    "    def wrapper(*args):\n",
    "        try:\n",
    "            return func(*args)\n",
    "        except ZeroDivisionError:\n",
    "            print(\"Denominator can't be zero\")\n",
    "    return wrapper\n",
    "\n",
    "@check\n",
    "def div(a, b):\n",
    "    return a / b\n",
    "div(6, 0)\n",
    "\n"
   ]
  },
  {
   "cell_type": "code",
   "execution_count": null,
   "metadata": {},
   "outputs": [],
   "source": [
    "def add_new(iden, name, position, salary):\n",
    "    with open(\"employees.txt\", 'w') as f:\n",
    "        a=f.write(f\"{iden}, {name}, {position}, {salary}\\n\")\n",
    "\n",
    "def disp():\n",
    "    with open(\"employees.txt\", 'r') as f:\n",
    "        b=f.read()\n",
    "        return b\n",
    "    \n",
    "def sear(iden):\n",
    "    with open(\"employees.txt\", 'r') as f:\n",
    "        lines=f.readline()\n",
    "        for lines in f:\n",
    "            if lines.startswith(iden+','):\n",
    "                return lines\n",
    "            \n",
    "def upd(iden, name, position, salary):\n",
    "    with open(\"employees.txt\", 'r+') as f:\n",
    "        lines=f.readline()\n",
    "        for lines in f:\n",
    "            if lines.startswith(iden+','):\n",
    "                lines[1]=name\n",
    "                lines[2]=position\n",
    "                lines[3]=salary\n",
    "\n",
    "def delete_employee(filename):\n",
    "    emp_id = input(\"Enter Employee ID to delete: \").strip()\n",
    "    deleted = False\n",
    "    with open(filename, \"r\") as file:\n",
    "        records = file.readlines()\n",
    "\n",
    "    with open(filename, \"w\") as file:\n",
    "        for record in records:\n",
    "            if record.startswith(emp_id + \",\"):\n",
    "                deleted = True\n",
    "                print(\"Employee record deleted successfully!\\n\")\n",
    "            else:\n",
    "                file.write(record)\n",
    "\n",
    "\n",
    "\n",
    "\n",
    "\n",
    "                \n"
   ]
  },
  {
   "cell_type": "code",
   "execution_count": null,
   "metadata": {},
   "outputs": [],
   "source": []
  },
  {
   "cell_type": "code",
   "execution_count": 70,
   "metadata": {},
   "outputs": [
    {
     "name": "stdout",
     "output_type": "stream",
     "text": [
      "this - 2\n",
      "is - 3\n",
      "a - 2\n",
      "simple - 1\n",
      "file - 3\n",
      "for - 1\n",
      "testing - 1\n",
      "purposes - 1\n",
      "it - 1\n",
      "test - 1\n"
     ]
    }
   ],
   "source": [
    "with open('sample.txt', 'r') as f:\n",
    "    a=f.read().replace(',','').replace('.','').lower().split()\n",
    "    done=list()\n",
    "    for i in a:\n",
    "        if i not in done:\n",
    "            print(i, '-', a.count(i))\n",
    "            done.append(i)\n"
   ]
  },
  {
   "cell_type": "code",
   "execution_count": null,
   "metadata": {},
   "outputs": [],
   "source": []
  }
 ],
 "metadata": {
  "kernelspec": {
   "display_name": "Python 3",
   "language": "python",
   "name": "python3"
  },
  "language_info": {
   "codemirror_mode": {
    "name": "ipython",
    "version": 3
   },
   "file_extension": ".py",
   "mimetype": "text/x-python",
   "name": "python",
   "nbconvert_exporter": "python",
   "pygments_lexer": "ipython3",
   "version": "3.12.8"
  }
 },
 "nbformat": 4,
 "nbformat_minor": 2
}
