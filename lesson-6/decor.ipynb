{
 "cells": [
  {
   "cell_type": "code",
   "execution_count": null,
   "metadata": {},
   "outputs": [
    {
     "name": "stdout",
     "output_type": "stream",
     "text": [
      "['apple', 'banana']\n"
     ]
    }
   ],
   "source": [
    "def check(func):\n",
    "    def wrapper(*args):\n",
    "        try:\n",
    "            return func(*args)\n",
    "        except ZeroDivisionError:\n",
    "            print(\"Denominator can't be zero\")\n",
    "    return wrapper\n",
    "\n",
    "@check\n",
    "def div(a, b):\n",
    "    return a / b\n",
    "div(6, 2)\n",
    "\n",
    "a=['apple', 'banana']\n"
   ]
  },
  {
   "cell_type": "code",
   "execution_count": null,
   "metadata": {},
   "outputs": [],
   "source": [
    "def add_new(iden, name, position, salary):\n",
    "    with open(\"employees.txt\", 'w') as f:\n",
    "        a=f.write(f\"{iden}, {name}, {position}, {salary}\\n\")\n",
    "\n",
    "def disp():\n",
    "    with open(\"employees.txt\", 'r') as f:\n",
    "        b=f.read()\n",
    "        return b\n",
    "    \n",
    "def sear(iden):\n",
    "    with open(\"employees.txt\", 'r') as f:\n",
    "        lines=f.readline()\n",
    "        for lines in f:\n",
    "            if lines.startswith(iden+','):\n",
    "                return lines\n",
    "            \n",
    "def upd(iden, name, position, salary):\n",
    "    with open(\"employees.txt\", 'r+') as f:\n",
    "        lines=f.readline()\n",
    "        for lines in f:\n",
    "            if lines.startswith(iden+','):\n",
    "                lines[1]=name\n",
    "                lines[2]=position\n",
    "                lines[3]=salary\n",
    "\n",
    "def delete_employee(filename):\n",
    "    emp_id = input(\"Enter Employee ID to delete: \").strip()\n",
    "    deleted = False\n",
    "    with open(filename, \"r\") as file:\n",
    "        records = file.readlines()\n",
    "\n",
    "    with open(filename, \"w\") as file:\n",
    "        for record in records:\n",
    "            if record.startswith(emp_id + \",\"):\n",
    "                deleted = True\n",
    "                print(\"Employee record deleted successfully!\\n\")\n",
    "            else:\n",
    "                file.write(record)\n",
    "\n",
    "\n",
    "\n",
    "\n",
    "\n",
    "                \n"
   ]
  },
  {
   "cell_type": "code",
   "execution_count": null,
   "metadata": {},
   "outputs": [
    {
     "ename": "SyntaxError",
     "evalue": "expected ':' (2973705680.py, line 2)",
     "output_type": "error",
     "traceback": [
      "\u001b[1;36m  Cell \u001b[1;32mIn[52], line 2\u001b[1;36m\u001b[0m\n\u001b[1;33m    with open('sample.txt', 'r')\u001b[0m\n\u001b[1;37m                                ^\u001b[0m\n\u001b[1;31mSyntaxError\u001b[0m\u001b[1;31m:\u001b[0m expected ':'\n"
     ]
    }
   ],
   "source": [
    "def create_sample_file():\n",
    "    print(\"The file 'sample.txt' does not exist. Please create it.\")\n",
    "    with open(\"sample.txt\", \"w\") as file:\n",
    "        content = input(\"Type a paragraph for 'sample.txt':\\n\")\n",
    "        file.write(content)\n",
    "        print(\"File 'sample.txt' created successfully!\\n\")\n",
    "\n",
    "def count_word_frequency(filename):\n",
    "    try:\n",
    "        with open(filename, \"r\") as file:\n",
    "            content = file.read().lower()\n",
    "    except FileNotFoundError:\n",
    "        create_sample_file()\n",
    "        with open(filename, \"r\") as file:\n",
    "            content = file.read().lower()\n",
    "    clean_content = ''.join(char if char.isalnum() or char.isspace() else ' ' for char in content)\n",
    "    words = clean_content.split()\n",
    "    word_counts = {}\n",
    "    for word in words:\n",
    "        if word in word_counts:\n",
    "            word_counts[word] += 1\n",
    "        else:\n",
    "            word_counts[word] = 1\n",
    "    total_words = sum(word_counts.values())\n",
    "    top_words = sorted(word_counts.items(), key=lambda x: x[1], reverse=True)\n",
    "    return total_words, top_words\n",
    "\n",
    "def save_report(total_words, top_words, top_n):\n",
    "    with open(\"word_count_report.txt\", \"w\") as file:\n",
    "        file.write(\"Word Count Report\\n\")\n",
    "        file.write(f\"Total Words: {total_words}\\n\")\n",
    "        file.write(\"Top Words:\\n\")\n",
    "        for word, count in top_words[:top_n]:\n",
    "            file.write(f\"{word} - {count}\\n\")\n",
    "    print(\"Report saved to 'word_count_report.txt'.\\n\")\n",
    "\n",
    "def display_results(total_words, top_words, top_n):\n",
    "    print(f\"Total words: {total_words}\")\n",
    "    print(f\"Top {top_n} most common words:\")\n",
    "    for word, count in top_words[:top_n]:\n",
    "        print(f\"{word} - {count} times\")\n",
    "\n",
    "def main():\n",
    "    filename = \"sample.txt\"\n",
    "    top_n = int(input(\"Enter the number of top common words to display: \").strip())\n",
    "    total_words, top_words = count_word_frequency(filename)\n",
    "    display_results(total_words, top_words, top_n)\n",
    "    save_report(total_words, top_words, top_n)\n",
    "\n",
    "if __name__ == \"__main__\":\n",
    "    main()\n"
   ]
  },
  {
   "cell_type": "code",
   "execution_count": null,
   "metadata": {},
   "outputs": [],
   "source": []
  }
 ],
 "metadata": {
  "kernelspec": {
   "display_name": "Python 3",
   "language": "python",
   "name": "python3"
  },
  "language_info": {
   "codemirror_mode": {
    "name": "ipython",
    "version": 3
   },
   "file_extension": ".py",
   "mimetype": "text/x-python",
   "name": "python",
   "nbconvert_exporter": "python",
   "pygments_lexer": "ipython3",
   "version": "3.12.8"
  }
 },
 "nbformat": 4,
 "nbformat_minor": 2
}
