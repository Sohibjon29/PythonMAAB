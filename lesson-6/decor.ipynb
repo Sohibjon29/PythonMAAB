{
 "cells": [
  {
   "cell_type": "code",
   "execution_count": 54,
   "metadata": {},
   "outputs": [
    {
     "name": "stdout",
     "output_type": "stream",
     "text": [
      "Denominator can't be zero\n"
     ]
    }
   ],
   "source": [
    "def check(func):\n",
    "    def wrapper(*args):\n",
    "        try:\n",
    "            return func(*args)\n",
    "        except ZeroDivisionError:\n",
    "            print(\"Denominator can't be zero\")\n",
    "    return wrapper\n",
    "\n",
    "@check\n",
    "def div(a, b):\n",
    "    return a / b\n",
    "div(6, 0)\n",
    "\n"
   ]
  },
  {
   "cell_type": "code",
   "execution_count": null,
   "metadata": {},
   "outputs": [],
   "source": [
    "def add_new(iden, name, position, salary):\n",
    "    with open(\"employees.txt\", 'w') as f:\n",
    "        a=f.write(f\"{iden}, {name}, {position}, {salary}\\n\")\n",
    "\n",
    "def disp():\n",
    "    with open(\"employees.txt\", 'r') as f:\n",
    "        b=f.read()\n",
    "        return b\n",
    "    \n",
    "def sear(iden):\n",
    "    with open(\"employees.txt\", 'r') as f:\n",
    "        lines=f.readline()\n",
    "        for lines in f:\n",
    "            if lines.startswith(iden+','):\n",
    "                return lines\n",
    "            \n",
    "def upd(iden, name, position, salary):\n",
    "    with open(\"employees.txt\", 'r+') as f:\n",
    "        lines=f.readline()\n",
    "        for lines in f:\n",
    "            if lines.startswith(iden+','):\n",
    "                lines[1]=name\n",
    "                lines[2]=position\n",
    "                lines[3]=salary\n",
    "\n",
    "def delete_employee(filename):\n",
    "    emp_id = input(\"Enter Employee ID to delete: \").strip()\n",
    "    deleted = False\n",
    "    with open(filename, \"r\") as file:\n",
    "        records = file.readlines()\n",
    "\n",
    "    with open(filename, \"w\") as file:\n",
    "        for record in records:\n",
    "            if record.startswith(emp_id + \",\"):\n",
    "                deleted = True\n",
    "                print(\"Employee record deleted successfully!\\n\")\n",
    "            else:\n",
    "                file.write(record)\n",
    "\n",
    "\n",
    "\n",
    "\n",
    "\n",
    "                \n"
   ]
  },
  {
   "cell_type": "code",
   "execution_count": 55,
   "metadata": {},
   "outputs": [
    {
     "ename": "ValueError",
     "evalue": "invalid literal for int() with base 10: ''",
     "output_type": "error",
     "traceback": [
      "\u001b[1;31m---------------------------------------------------------------------------\u001b[0m",
      "\u001b[1;31mValueError\u001b[0m                                Traceback (most recent call last)",
      "Cell \u001b[1;32mIn[55], line 51\u001b[0m\n\u001b[0;32m     48\u001b[0m     save_report(total_words, top_words, top_n)\n\u001b[0;32m     50\u001b[0m \u001b[38;5;28;01mif\u001b[39;00m \u001b[38;5;18m__name__\u001b[39m \u001b[38;5;241m==\u001b[39m \u001b[38;5;124m\"\u001b[39m\u001b[38;5;124m__main__\u001b[39m\u001b[38;5;124m\"\u001b[39m:\n\u001b[1;32m---> 51\u001b[0m     \u001b[43mmain\u001b[49m\u001b[43m(\u001b[49m\u001b[43m)\u001b[49m\n",
      "Cell \u001b[1;32mIn[55], line 45\u001b[0m, in \u001b[0;36mmain\u001b[1;34m()\u001b[0m\n\u001b[0;32m     43\u001b[0m \u001b[38;5;28;01mdef\u001b[39;00m \u001b[38;5;21mmain\u001b[39m():\n\u001b[0;32m     44\u001b[0m     filename \u001b[38;5;241m=\u001b[39m \u001b[38;5;124m\"\u001b[39m\u001b[38;5;124msample.txt\u001b[39m\u001b[38;5;124m\"\u001b[39m\n\u001b[1;32m---> 45\u001b[0m     top_n \u001b[38;5;241m=\u001b[39m \u001b[38;5;28;43mint\u001b[39;49m\u001b[43m(\u001b[49m\u001b[38;5;28;43minput\u001b[39;49m\u001b[43m(\u001b[49m\u001b[38;5;124;43m\"\u001b[39;49m\u001b[38;5;124;43mEnter the number of top common words to display: \u001b[39;49m\u001b[38;5;124;43m\"\u001b[39;49m\u001b[43m)\u001b[49m\u001b[38;5;241;43m.\u001b[39;49m\u001b[43mstrip\u001b[49m\u001b[43m(\u001b[49m\u001b[43m)\u001b[49m\u001b[43m)\u001b[49m\n\u001b[0;32m     46\u001b[0m     total_words, top_words \u001b[38;5;241m=\u001b[39m count_word_frequency(filename)\n\u001b[0;32m     47\u001b[0m     display_results(total_words, top_words, top_n)\n",
      "\u001b[1;31mValueError\u001b[0m: invalid literal for int() with base 10: ''"
     ]
    }
   ],
   "source": [
    "def create_sample_file():\n",
    "    print(\"The file 'sample.txt' does not exist. Please create it.\")\n",
    "    with open(\"sample.txt\", \"w\") as file:\n",
    "        content = input(\"Type a paragraph for 'sample.txt':\\n\")\n",
    "        file.write(content)\n",
    "        print(\"File 'sample.txt' created successfully!\\n\")\n",
    "\n",
    "def count_word_frequency(filename):\n",
    "    try:\n",
    "        with open(filename, \"r\") as file:\n",
    "            content = file.read().lower()\n",
    "    except FileNotFoundError:\n",
    "        create_sample_file()\n",
    "        with open(filename, \"r\") as file:\n",
    "            content = file.read().lower()\n",
    "    clean_content = ''.join(char if char.isalnum() or char.isspace() else ' ' for char in content)\n",
    "    words = clean_content.split()\n",
    "    word_counts = {}\n",
    "    for word in words:\n",
    "        if word in word_counts:\n",
    "            word_counts[word] += 1\n",
    "        else:\n",
    "            word_counts[word] = 1\n",
    "    total_words = sum(word_counts.values())\n",
    "    top_words = sorted(word_counts.items(), key=lambda x: x[1], reverse=True)\n",
    "    return total_words, top_words\n",
    "\n",
    "def save_report(total_words, top_words, top_n):\n",
    "    with open(\"word_count_report.txt\", \"w\") as file:\n",
    "        file.write(\"Word Count Report\\n\")\n",
    "        file.write(f\"Total Words: {total_words}\\n\")\n",
    "        file.write(\"Top Words:\\n\")\n",
    "        for word, count in top_words[:top_n]:\n",
    "            file.write(f\"{word} - {count}\\n\")\n",
    "    print(\"Report saved to 'word_count_report.txt'.\\n\")\n",
    "\n",
    "def display_results(total_words, top_words, top_n):\n",
    "    print(f\"Total words: {total_words}\")\n",
    "    print(f\"Top {top_n} most common words:\")\n",
    "    for word, count in top_words[:top_n]:\n",
    "        print(f\"{word} - {count} times\")\n",
    "\n",
    "def main():\n",
    "    filename = \"sample.txt\"\n",
    "    top_n = int(input(\"Enter the number of top common words to display: \").strip())\n",
    "    total_words, top_words = count_word_frequency(filename)\n",
    "    display_results(total_words, top_words, top_n)\n",
    "    save_report(total_words, top_words, top_n)\n",
    "\n",
    "if __name__ == \"__main__\":\n",
    "    main()\n"
   ]
  },
  {
   "cell_type": "code",
   "execution_count": null,
   "metadata": {},
   "outputs": [],
   "source": []
  }
 ],
 "metadata": {
  "kernelspec": {
   "display_name": "Python 3",
   "language": "python",
   "name": "python3"
  },
  "language_info": {
   "codemirror_mode": {
    "name": "ipython",
    "version": 3
   },
   "file_extension": ".py",
   "mimetype": "text/x-python",
   "name": "python",
   "nbconvert_exporter": "python",
   "pygments_lexer": "ipython3",
   "version": "3.12.8"
  }
 },
 "nbformat": 4,
 "nbformat_minor": 2
}
