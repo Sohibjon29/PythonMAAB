{
 "cells": [
  {
   "cell_type": "code",
   "execution_count": 35,
   "metadata": {},
   "outputs": [
    {
     "name": "stdout",
     "output_type": "stream",
     "text": [
      "<__main__.Vector3D object at 0x000001BE4E295C10>\n",
      "<__main__.Vector3D object at 0x000001BE4E2977D0>\n",
      "180\n",
      "executed\n",
      "Inequal\n"
     ]
    }
   ],
   "source": [
    "class Vector3D:\n",
    "\n",
    "    def __init__(self, *args):\n",
    "        self.lst=list(args)\n",
    "        self.args=args\n",
    "\n",
    "    def __eq__(self, other):\n",
    "        print('executed')\n",
    "\n",
    "        return \n",
    "    \n",
    "    def __add__(self, other):\n",
    "        l=0\n",
    "        newlst=list()\n",
    "        for i in self.args:\n",
    "            newlst.append(i+other.lst[l])\n",
    "            l+1\n",
    "        return Vector3D(i for i in newlst)\n",
    "    \n",
    "    def __sub__(self, other):\n",
    "        l=0\n",
    "        newlst=list()\n",
    "        for i in self.args:\n",
    "            newlst.append(i-other.lst[l])\n",
    "            l+1\n",
    "        return Vector3D(int(i) for i in newlst)\n",
    "        \n",
    "\n",
    "\n",
    "    \n",
    "    def __mul__(self, other):\n",
    "        l=0\n",
    "        ans=0\n",
    "        for i in self.args:\n",
    "            ans=ans+i*other.lst[l]\n",
    "            l=l+1\n",
    "        return ans \n",
    "            \n",
    "v1 = Vector3D(3, 5, 8, 9)\n",
    "v2 = Vector3D(1, 3, 9, 10)\n",
    "print(v1 + v2)\n",
    "print(v1-v2)\n",
    "print(v1*v2)\n",
    "\n",
    "if v1 == v2:\n",
    "    print('Equal')\n",
    "else:\n",
    "    print(\"Inequal\")\n"
   ]
  },
  {
   "cell_type": "code",
   "execution_count": 3,
   "metadata": {},
   "outputs": [],
   "source": [
    "class Employee:\n",
    "    def __init__(self, employee_id, name, position, salary):\n",
    "        self.emp_id=employee_id\n",
    "        self.name=name\n",
    "        self.pos=position\n",
    "        self.sal=salary\n",
    "class EmployeeManager:\n",
    "    def __init__():\n",
    "        oper=int(input(\"Please enter a number between 1-6 to use methods:\\n 1.Add new employee record\\n 2. View all employee records\\n3. Search for an employee by Employee ID\\n4. Update an employee information\\n5. Delete an employee record\\n6. Exit\"))\n",
    "\n",
    "\n"
   ]
  },
  {
   "cell_type": "code",
   "execution_count": null,
   "metadata": {},
   "outputs": [],
   "source": []
  }
 ],
 "metadata": {
  "kernelspec": {
   "display_name": "Python 3",
   "language": "python",
   "name": "python3"
  },
  "language_info": {
   "codemirror_mode": {
    "name": "ipython",
    "version": 3
   },
   "file_extension": ".py",
   "mimetype": "text/x-python",
   "name": "python",
   "nbconvert_exporter": "python",
   "pygments_lexer": "ipython3",
   "version": "3.12.8"
  }
 },
 "nbformat": 4,
 "nbformat_minor": 2
}
