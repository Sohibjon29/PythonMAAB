{
 "cells": [
  {
   "cell_type": "code",
   "execution_count": null,
   "metadata": {},
   "outputs": [],
   "source": [
    "import numpy as np\n",
    "vct=np.arange(10, 50,1)\n"
   ]
  },
  {
   "cell_type": "code",
   "execution_count": null,
   "metadata": {},
   "outputs": [
    {
     "name": "stdout",
     "output_type": "stream",
     "text": [
      "[[0 1 2]\n",
      " [0 0 0]\n",
      " [0 0 0]]\n"
     ]
    }
   ],
   "source": [
    "array_3x3 = np.arange(9).reshape(3, 3)\n",
    "print(array_3x3)\n"
   ]
  },
  {
   "cell_type": "code",
   "execution_count": 31,
   "metadata": {},
   "outputs": [
    {
     "name": "stdout",
     "output_type": "stream",
     "text": [
      "[[1 0 0]\n",
      " [0 1 0]\n",
      " [0 0 1]]\n"
     ]
    }
   ],
   "source": [
    "arr=np.zeros((3,3), dtype=int)\n",
    "i=0\n",
    "while i<3:\n",
    "    arr[i, i]=1\n",
    "    i=i+1\n",
    "print(arr)\n"
   ]
  },
  {
   "cell_type": "code",
   "execution_count": 42,
   "metadata": {},
   "outputs": [
    {
     "name": "stdout",
     "output_type": "stream",
     "text": [
      "[[[6 4 3]\n",
      "  [1 6 4]\n",
      "  [2 6 8]]\n",
      "\n",
      " [[5 1 6]\n",
      "  [3 3 3]\n",
      "  [4 1 6]]\n",
      "\n",
      " [[5 4 8]\n",
      "  [4 2 3]\n",
      "  [8 2 2]]]\n"
     ]
    }
   ],
   "source": [
    "import random\n",
    "lst=[random.randrange(1, 9) for i in range(27)]\n",
    "\n",
    "arr=np.array(lst)\n",
    "fina=arr.reshape(3, 3, 3)\n",
    "print(fina)\n"
   ]
  },
  {
   "cell_type": "code",
   "execution_count": null,
   "metadata": {},
   "outputs": [
    {
     "name": "stdout",
     "output_type": "stream",
     "text": [
      "8\n",
      "1\n"
     ]
    }
   ],
   "source": [
    "\n",
    "arr=np.random.randint(low=1, high=9, size=(10, 10))\n",
    "maxi=arr.max()\n",
    "mini=arr.min()\n",
    "print(maxi)\n",
    "print(mini)\n"
   ]
  },
  {
   "cell_type": "code",
   "execution_count": 55,
   "metadata": {},
   "outputs": [
    {
     "name": "stdout",
     "output_type": "stream",
     "text": [
      "50.266666666666666\n"
     ]
    }
   ],
   "source": [
    "arr=np.random.randint(low=0, high=100, size=(30))\n",
    "print(arr.mean())\n"
   ]
  },
  {
   "cell_type": "code",
   "execution_count": 66,
   "metadata": {},
   "outputs": [
    {
     "name": "stdout",
     "output_type": "stream",
     "text": [
      "[[8 2 3 2 1]\n",
      " [7 5 1 5 3]\n",
      " [4 4 6 7 4]\n",
      " [9 7 6 9 1]\n",
      " [3 3 9 4 5]]\n",
      "[[0.875 0.125 0.25  0.125 0.   ]\n",
      " [0.75  0.5   0.    0.5   0.25 ]\n",
      " [0.375 0.375 0.625 0.75  0.375]\n",
      " [1.    0.75  0.625 1.    0.   ]\n",
      " [0.25  0.25  1.    0.375 0.5  ]]\n"
     ]
    }
   ],
   "source": [
    "lst=[random.randint(1, 9) for i in range(25)]\n",
    "arr=np.array(lst).reshape(5, 5)\n",
    "print(arr)\n",
    "mini=arr.min()\n",
    "maxi=arr.max()\n",
    "norm_arr=(arr-mini)/(maxi-mini)\n",
    "print(norm_arr)\n"
   ]
  },
  {
   "cell_type": "code",
   "execution_count": null,
   "metadata": {},
   "outputs": [
    {
     "name": "stdout",
     "output_type": "stream",
     "text": [
      "[[5 4 4]\n",
      " [1 3 2]\n",
      " [6 8 2]\n",
      " [5 5 5]\n",
      " [5 6 5]]\n",
      "[[2 3]\n",
      " [5 7]\n",
      " [2 8]]\n",
      "[[38 75]\n",
      " [21 40]\n",
      " [56 90]\n",
      " [45 90]\n",
      " [50 97]]\n",
      "[[38 75]\n",
      " [21 40]\n",
      " [56 90]\n",
      " [45 90]\n",
      " [50 97]]\n"
     ]
    }
   ],
   "source": [
    "arr1=np.random.randint(1, 9, (5,3))\n",
    "arr2=np.random.randint(1, 9, (3, 2))\n",
    "print(arr1)\n",
    "print(arr2)\n",
    "print(arr1@arr2)\n",
    "print(np.dot(arr1, arr2))\n"
   ]
  },
  {
   "cell_type": "code",
   "execution_count": null,
   "metadata": {},
   "outputs": [
    {
     "name": "stdout",
     "output_type": "stream",
     "text": [
      "[[ 7  8 68]\n",
      " [72 57 78]\n",
      " [86  1 28]]\n",
      "[[70 55 30]\n",
      " [90 17 64]\n",
      " [88 37 42]]\n",
      "[[ 7194  3037  3578]\n",
      " [17034  7815  9084]\n",
      " [ 8574  5783  3820]]\n"
     ]
    }
   ],
   "source": [
    "arr1=np.random.randint(0, 99, (3, 3))\n",
    "arr2=np.random.randint(0, 99, (3, 3))\n",
    "print(arr1)\n",
    "print(arr2)\n",
    "prod=np.dot(arr1, arr2)\n",
    "print(prod)\n"
   ]
  },
  {
   "cell_type": "code",
   "execution_count": null,
   "metadata": {},
   "outputs": [
    {
     "name": "stdout",
     "output_type": "stream",
     "text": [
      "[[60 91 12 15]\n",
      " [36 85 46 97]\n",
      " [71  6 88 91]\n",
      " [49 89 33 87]]\n",
      "[[60 36 71 49]\n",
      " [91 85  6 89]\n",
      " [12 46 88 33]\n",
      " [15 97 91 87]]\n"
     ]
    }
   ],
   "source": [
    "arr1=np.random.randint(0, 99, (4, 4))\n",
    "arr2=arr1.transpose()\n",
    "print(arr2)\n",
    "\n"
   ]
  },
  {
   "cell_type": "code",
   "execution_count": null,
   "metadata": {},
   "outputs": [
    {
     "name": "stdout",
     "output_type": "stream",
     "text": [
      "[[25 42 53]\n",
      " [83 71 68]\n",
      " [49 70 44]]\n",
      "69202.99999999999\n"
     ]
    }
   ],
   "source": [
    "arr1=np.random.randint(0, 99, (3, 3))\n",
    "deter=np.linalg.det(arr1)\n",
    "print(arr1)\n",
    "print(deter)\n"
   ]
  },
  {
   "cell_type": "code",
   "execution_count": null,
   "metadata": {},
   "outputs": [
    {
     "name": "stdout",
     "output_type": "stream",
     "text": [
      "[[49 52 68]\n",
      " [29 20 28]\n",
      " [29 56 55]]\n"
     ]
    }
   ],
   "source": [
    "A=np.random.randint(0, 9, (3, 4))\n",
    "B=np.random.randint(0, 9, (4, 3))\n",
    "prod=np.dot(A, B)\n",
    "print(prod)\n"
   ]
  },
  {
   "cell_type": "code",
   "execution_count": 96,
   "metadata": {},
   "outputs": [
    {
     "name": "stdout",
     "output_type": "stream",
     "text": [
      "[20 14 19]\n"
     ]
    }
   ],
   "source": [
    "A=np.random.randint(0, 9, (3, 3))\n",
    "B=np.random.randint(0, 9, (3))\n",
    "print(np.dot(A, B))\n"
   ]
  },
  {
   "cell_type": "code",
   "execution_count": 115,
   "metadata": {},
   "outputs": [
    {
     "name": "stdout",
     "output_type": "stream",
     "text": [
      "[1 2 3]\n",
      "[[2 1 3]\n",
      " [1 2 3]\n",
      " [3 3 1]]\n",
      "[1.11022302e-16 1.00000000e+00 2.22044605e-17]\n"
     ]
    }
   ],
   "source": [
    "A = np.array([[2, 1, 3],\n",
    "              [1, 2, 3],\n",
    "              [3, 3, 1]])\n",
    "b = np.array([1, 2, 3])\n",
    "\n",
    "print(b)\n",
    "print(A)\n",
    "x=np.linalg.solve(A, b)\n",
    "print(x)\n",
    "\n"
   ]
  },
  {
   "cell_type": "code",
   "execution_count": 124,
   "metadata": {},
   "outputs": [
    {
     "name": "stdout",
     "output_type": "stream",
     "text": [
      "[[ 0  1  2  3  4]\n",
      " [ 5  6  7  8  9]\n",
      " [10 11 12 13 14]\n",
      " [15 16 17 18 19]\n",
      " [20 21 22 23 24]]\n",
      "[ 10  35  60  85 110]\n",
      "[50 55 60 65 70]\n"
     ]
    }
   ],
   "source": [
    "a=np.array(range(25)).reshape(5, 5)\n",
    "roww=a.sum(axis=1)\n",
    "colu=a.sum(axis=0)\n",
    "print(a)\n",
    "print(roww)\n",
    "print(colu)\n"
   ]
  },
  {
   "cell_type": "code",
   "execution_count": null,
   "metadata": {},
   "outputs": [],
   "source": []
  }
 ],
 "metadata": {
  "kernelspec": {
   "display_name": "Python 3",
   "language": "python",
   "name": "python3"
  },
  "language_info": {
   "codemirror_mode": {
    "name": "ipython",
    "version": 3
   },
   "file_extension": ".py",
   "mimetype": "text/x-python",
   "name": "python",
   "nbconvert_exporter": "python",
   "pygments_lexer": "ipython3",
   "version": "3.12.8"
  }
 },
 "nbformat": 4,
 "nbformat_minor": 2
}
