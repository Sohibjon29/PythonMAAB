{
 "cells": [
  {
   "cell_type": "code",
   "execution_count": 1,
   "metadata": {},
   "outputs": [
    {
     "name": "stdout",
     "output_type": "stream",
     "text": [
      "1\n",
      "1\n",
      "3\n",
      "4\n"
     ]
    }
   ],
   "source": [
    "list1 = [1, 1, 2]\n",
    "list2 = [2, 3, 4]\n",
    "for i in list1:\n",
    "    if i not in list2:\n",
    "        print(i)\n",
    "for i in list2:\n",
    "    if i not in list1:\n",
    "        print(i)\n"
   ]
  },
  {
   "cell_type": "code",
   "execution_count": 2,
   "metadata": {},
   "outputs": [
    {
     "name": "stdout",
     "output_type": "stream",
     "text": [
      "1\n",
      "4\n",
      "9\n",
      "16\n",
      "25\n"
     ]
    }
   ],
   "source": [
    "for i in range(1, 6):\n",
    "    print(i*i)\n"
   ]
  },
  {
   "cell_type": "code",
   "execution_count": 9,
   "metadata": {},
   "outputs": [
    {
     "name": "stdout",
     "output_type": "stream",
     "text": [
      "abc_abcd_abcdeab_cdef_abcdefg_\n"
     ]
    }
   ],
   "source": [
    "txt='abcabcdabcdeabcdefabcdefg'\n",
    "c=1\n",
    "lst=list()\n",
    "lst1=list()\n",
    "vowels=['i', 'o', 'u', 'y', 'e', 'a']\n",
    "for i in txt:\n",
    "    if c>=3:\n",
    "        if i not in lst1:\n",
    "            if i not in vowels:\n",
    "                lst1.append(i)\n",
    "                i=i+'_'\n",
    "                c=0\n",
    "    c=c+1\n",
    "    lst.append(i)\n",
    "print(''.join(lst))\n",
    "\n"
   ]
  },
  {
   "cell_type": "code",
   "execution_count": null,
   "metadata": {},
   "outputs": [
    {
     "name": "stdout",
     "output_type": "stream",
     "text": [
      "Too low\n",
      "Too high\n",
      "Too high\n",
      "Too high\n",
      "Too low\n",
      "Too high\n",
      "You guessed it right\n",
      "You guessed it right\n",
      "You guessed it right\n",
      "You guessed it right\n",
      "You guessed it right\n",
      "You guessed it right\n",
      "You guessed it right\n",
      "You guessed it right\n"
     ]
    }
   ],
   "source": [
    "import random\n",
    "i=random.randrange(1, 100)\n",
    "answer=int(input(\"Guess the number\"))\n",
    "l=1\n",
    "while l<10:\n",
    "    if answer==i:\n",
    "        print(\"You guessed it right\")\n",
    "        cont=input('Press Y, yes, ok to continue')\n",
    "        if cont=='Y' or 'yes' or 'ok':\n",
    "            i=random.randrange(1, 100)\n",
    "            l=0\n",
    "            answer=int(input(\"Guess the number\"))\n",
    "        else:\n",
    "            break\n",
    "    elif answer>i:\n",
    "        print(\"Too high\")\n",
    "        answer=int(input('Guess again'))\n",
    "        l=l+1\n",
    "    elif answer<i:\n",
    "        print('Too low')\n",
    "        answer=int(input('Guess again'))\n",
    "        l=l+1\n",
    "\n",
    "\n",
    "    \n",
    "\n"
   ]
  },
  {
   "cell_type": "code",
   "execution_count": null,
   "metadata": {},
   "outputs": [
    {
     "name": "stdout",
     "output_type": "stream",
     "text": [
      "Password is strong\n"
     ]
    }
   ],
   "source": [
    "password=input('Please enter a password')\n",
    "i=0\n",
    "while i<2:\n",
    "    if len(password)<8:\n",
    "        password=input('Password is too short, please enter another password')\n",
    "    else:\n",
    "        i=i+1\n",
    "        if password==password.lower():\n",
    "           password=input('Password must contain an uppercase letter, please enter another password') \n",
    "        else:\n",
    "            print(\"Password is strong\")\n",
    "            i=i+1\n"
   ]
  },
  {
   "cell_type": "code",
   "execution_count": null,
   "metadata": {},
   "outputs": [
    {
     "name": "stdout",
     "output_type": "stream",
     "text": [
      "2\n",
      "3\n",
      "5\n",
      "7\n",
      "11\n",
      "13\n",
      "17\n",
      "19\n",
      "23\n",
      "29\n",
      "31\n",
      "37\n",
      "41\n",
      "43\n",
      "47\n",
      "53\n",
      "59\n",
      "61\n",
      "67\n",
      "71\n",
      "73\n",
      "79\n",
      "83\n",
      "89\n",
      "97\n"
     ]
    }
   ],
   "source": [
    "def is_prime(num):\n",
    "    i=2\n",
    "    if num<=1:\n",
    "        return False\n",
    "    while i<num:\n",
    "        if num%i==0:\n",
    "            return False\n",
    "        else:\n",
    "            i=i+1\n",
    "    else:\n",
    "        return True\n",
    "\n",
    "for i in range (1, 100):\n",
    "    if is_prime(i)==True:\n",
    "        print(i)\n"
   ]
  }
 ],
 "metadata": {
  "kernelspec": {
   "display_name": "Python 3",
   "language": "python",
   "name": "python3"
  },
  "language_info": {
   "codemirror_mode": {
    "name": "ipython",
    "version": 3
   },
   "file_extension": ".py",
   "mimetype": "text/x-python",
   "name": "python",
   "nbconvert_exporter": "python",
   "pygments_lexer": "ipython3",
   "version": "3.12.8"
  }
 },
 "nbformat": 4,
 "nbformat_minor": 2
}
