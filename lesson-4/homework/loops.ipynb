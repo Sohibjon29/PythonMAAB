{
 "cells": [
  {
   "cell_type": "code",
   "execution_count": 1,
   "metadata": {},
   "outputs": [
    {
     "name": "stdout",
     "output_type": "stream",
     "text": [
      "1\n",
      "1\n",
      "3\n",
      "4\n"
     ]
    }
   ],
   "source": [
    "list1 = [1, 1, 2]\n",
    "list2 = [2, 3, 4]\n",
    "for i in list1:\n",
    "    if i not in list2:\n",
    "        print(i)\n",
    "for i in list2:\n",
    "    if i not in list1:\n",
    "        print(i)\n"
   ]
  },
  {
   "cell_type": "code",
   "execution_count": 4,
   "metadata": {},
   "outputs": [
    {
     "name": "stdout",
     "output_type": "stream",
     "text": [
      "1\n",
      "4\n",
      "9\n",
      "16\n",
      "25\n"
     ]
    }
   ],
   "source": [
    "for i in range(1, 6):\n",
    "    print(i*i)\n"
   ]
  },
  {
   "cell_type": "code",
   "execution_count": 5,
   "metadata": {},
   "outputs": [
    {
     "ename": "SyntaxError",
     "evalue": "incomplete input (915100870.py, line 3)",
     "output_type": "error",
     "traceback": [
      "\u001b[1;36m  Cell \u001b[1;32mIn[5], line 3\u001b[1;36m\u001b[0m\n\u001b[1;33m    \u001b[0m\n\u001b[1;37m    ^\u001b[0m\n\u001b[1;31mSyntaxError\u001b[0m\u001b[1;31m:\u001b[0m incomplete input\n"
     ]
    }
   ],
   "source": [
    "txt=\"abcabcdabcdeabcdefabcdefg\"\n",
    "for i in txt:\n",
    "    \n"
   ]
  },
  {
   "cell_type": "code",
   "execution_count": null,
   "metadata": {},
   "outputs": [
    {
     "name": "stdout",
     "output_type": "stream",
     "text": [
      "Too low\n",
      "Too high\n",
      "Too high\n",
      "Too high\n",
      "Too low\n",
      "Too high\n",
      "You guessed it right\n",
      "You guessed it right\n",
      "You guessed it right\n",
      "You guessed it right\n",
      "You guessed it right\n",
      "You guessed it right\n",
      "You guessed it right\n",
      "You guessed it right\n"
     ]
    }
   ],
   "source": [
    "import random\n",
    "i=random.randrange(1, 100)\n",
    "answer=int(input(\"Guess the number\"))\n",
    "l=1\n",
    "while l<10:\n",
    "    if answer==i:\n",
    "        print(\"You guessed it right\")\n",
    "        cont=input('Press Y, yes, ok to continue')\n",
    "        if cont=='Y' or 'yes' or 'ok':\n",
    "            i=random.randrange(1, 100)\n",
    "            l=0\n",
    "            answer=int(input(\"Guess the number\"))\n",
    "        else:\n",
    "            break\n",
    "    elif answer>i:\n",
    "        print(\"Too high\")\n",
    "        answer=int(input('Guess again'))\n",
    "        l=l+1\n",
    "    elif answer<i:\n",
    "        print('Too low')\n",
    "        answer=int(input('Guess again'))\n",
    "        l=l+1\n",
    "\n",
    "\n",
    "    \n",
    "\n"
   ]
  },
  {
   "cell_type": "code",
   "execution_count": null,
   "metadata": {},
   "outputs": [],
   "source": []
  }
 ],
 "metadata": {
  "kernelspec": {
   "display_name": "Python 3",
   "language": "python",
   "name": "python3"
  },
  "language_info": {
   "codemirror_mode": {
    "name": "ipython",
    "version": 3
   },
   "file_extension": ".py",
   "mimetype": "text/x-python",
   "name": "python",
   "nbconvert_exporter": "python",
   "pygments_lexer": "ipython3",
   "version": "3.12.8"
  }
 },
 "nbformat": 4,
 "nbformat_minor": 2
}
